{
  "nbformat": 4,
  "nbformat_minor": 0,
  "metadata": {
    "kernelspec": {
      "name": "python3",
      "display_name": "Python 3"
    },
    "colab": {
      "name": "frame_interpolation2.ipynb",
      "provenance": []
    },
    "accelerator": "GPU"
  },
  "cells": [
    {
      "cell_type": "code",
      "metadata": {
        "id": "cxOnm_J27bYp",
        "colab_type": "code",
        "colab": {}
      },
      "source": [
        "import math, re, os\n",
        "import tensorflow as tf\n",
        "import numpy as np\n",
        "from matplotlib import pyplot as plt\n",
        "from tensorflow.keras.models import model_from_json\n",
        "import cv2\n",
        "from matplotlib import pyplot as plt\n",
        "import glob"
      ],
      "execution_count": 0,
      "outputs": []
    },
    {
      "cell_type": "code",
      "metadata": {
        "id": "Bma5mNHT7xX0",
        "colab_type": "code",
        "outputId": "ed001faa-f7e5-40e5-f59a-41a186ec3e32",
        "colab": {
          "base_uri": "https://localhost:8080/",
          "height": 122
        }
      },
      "source": [
        "from google.colab import drive\n",
        "drive.mount('/content/drive')"
      ],
      "execution_count": 2,
      "outputs": [
        {
          "output_type": "stream",
          "text": [
            "Go to this URL in a browser: https://accounts.google.com/o/oauth2/auth?client_id=947318989803-6bn6qk8qdgf4n4g3pfee6491hc0brc4i.apps.googleusercontent.com&redirect_uri=urn%3aietf%3awg%3aoauth%3a2.0%3aoob&response_type=code&scope=email%20https%3a%2f%2fwww.googleapis.com%2fauth%2fdocs.test%20https%3a%2f%2fwww.googleapis.com%2fauth%2fdrive%20https%3a%2f%2fwww.googleapis.com%2fauth%2fdrive.photos.readonly%20https%3a%2f%2fwww.googleapis.com%2fauth%2fpeopleapi.readonly\n",
            "\n",
            "Enter your authorization code:\n",
            "··········\n",
            "Mounted at /content/drive\n"
          ],
          "name": "stdout"
        }
      ]
    },
    {
      "cell_type": "code",
      "metadata": {
        "id": "_OgfVkns79n1",
        "colab_type": "code",
        "outputId": "1808762d-0d24-4b58-ca44-c124646d42a1",
        "colab": {
          "base_uri": "https://localhost:8080/",
          "height": 34
        }
      },
      "source": [
        "list_of_videofiles = glob.glob(\"/content/drive/My Drive/tfrecords/test3.mp4\")\n",
        "print(list_of_videofiles)"
      ],
      "execution_count": 3,
      "outputs": [
        {
          "output_type": "stream",
          "text": [
            "['/content/drive/My Drive/tfrecords/test3.mp4']\n"
          ],
          "name": "stdout"
        }
      ]
    },
    {
      "cell_type": "code",
      "metadata": {
        "id": "NmxBr3_BBOZo",
        "colab_type": "code",
        "colab": {}
      },
      "source": [
        "# !rm -r ./frames_test2/"
      ],
      "execution_count": 0,
      "outputs": []
    },
    {
      "cell_type": "code",
      "metadata": {
        "id": "9dsoNAnb79qR",
        "colab_type": "code",
        "colab": {}
      },
      "source": [
        "parent_dir = \"/content/\"\n",
        "for path in list_of_videofiles:\n",
        "    vidcap = cv2.VideoCapture(path)\n",
        "    success,image = vidcap.read()\n",
        "    count = 0\n",
        "    file_name  = os.path.basename(os.path.splitext(path)[0])\n",
        "    if not os.path.isdir(\"./frames_\"+ file_name):\n",
        "        os.mkdir(\"./frames_\"+ file_name)\n",
        "        while success:\n",
        "\n",
        "            cv2.imwrite(\"./frames_%s/%s.jpg\" % (file_name,str(count).zfill(6)), image)     # save frame as JPEG file      \n",
        "            success,image = vidcap.read()\n",
        "            print('Read a new frame: ', success)\n",
        "            count += 2"
      ],
      "execution_count": 0,
      "outputs": []
    },
    {
      "cell_type": "code",
      "metadata": {
        "id": "AyqzaLA3AFFO",
        "colab_type": "code",
        "outputId": "07923c98-ad1b-4425-cb37-969be474e5ba",
        "colab": {
          "base_uri": "https://localhost:8080/",
          "height": 71
        }
      },
      "source": [
        "list_of_files = glob.glob(\"/content/frames_test3/*.jpg\")\n",
        "print(sorted(list_of_files))\n",
        "print(len(list_of_files))"
      ],
      "execution_count": 6,
      "outputs": [
        {
          "output_type": "stream",
          "text": [
            "['/content/frames_test3/000000.jpg', '/content/frames_test3/000002.jpg', '/content/frames_test3/000004.jpg', '/content/frames_test3/000006.jpg', '/content/frames_test3/000008.jpg', '/content/frames_test3/000010.jpg', '/content/frames_test3/000012.jpg', '/content/frames_test3/000014.jpg', '/content/frames_test3/000016.jpg', '/content/frames_test3/000018.jpg', '/content/frames_test3/000020.jpg', '/content/frames_test3/000022.jpg', '/content/frames_test3/000024.jpg', '/content/frames_test3/000026.jpg', '/content/frames_test3/000028.jpg', '/content/frames_test3/000030.jpg', '/content/frames_test3/000032.jpg', '/content/frames_test3/000034.jpg', '/content/frames_test3/000036.jpg', '/content/frames_test3/000038.jpg', '/content/frames_test3/000040.jpg', '/content/frames_test3/000042.jpg', '/content/frames_test3/000044.jpg', '/content/frames_test3/000046.jpg', '/content/frames_test3/000048.jpg', '/content/frames_test3/000050.jpg', '/content/frames_test3/000052.jpg', '/content/frames_test3/000054.jpg', '/content/frames_test3/000056.jpg', '/content/frames_test3/000058.jpg', '/content/frames_test3/000060.jpg', '/content/frames_test3/000062.jpg', '/content/frames_test3/000064.jpg', '/content/frames_test3/000066.jpg', '/content/frames_test3/000068.jpg', '/content/frames_test3/000070.jpg', '/content/frames_test3/000072.jpg', '/content/frames_test3/000074.jpg', '/content/frames_test3/000076.jpg', '/content/frames_test3/000078.jpg', '/content/frames_test3/000080.jpg', '/content/frames_test3/000082.jpg', '/content/frames_test3/000084.jpg', '/content/frames_test3/000086.jpg', '/content/frames_test3/000088.jpg', '/content/frames_test3/000090.jpg', '/content/frames_test3/000092.jpg', '/content/frames_test3/000094.jpg', '/content/frames_test3/000096.jpg', '/content/frames_test3/000098.jpg', '/content/frames_test3/000100.jpg', '/content/frames_test3/000102.jpg', '/content/frames_test3/000104.jpg', '/content/frames_test3/000106.jpg', '/content/frames_test3/000108.jpg', '/content/frames_test3/000110.jpg', '/content/frames_test3/000112.jpg', '/content/frames_test3/000114.jpg', '/content/frames_test3/000116.jpg', '/content/frames_test3/000118.jpg', '/content/frames_test3/000120.jpg', '/content/frames_test3/000122.jpg', '/content/frames_test3/000124.jpg', '/content/frames_test3/000126.jpg', '/content/frames_test3/000128.jpg', '/content/frames_test3/000130.jpg', '/content/frames_test3/000132.jpg', '/content/frames_test3/000134.jpg', '/content/frames_test3/000136.jpg', '/content/frames_test3/000138.jpg', '/content/frames_test3/000140.jpg', '/content/frames_test3/000142.jpg', '/content/frames_test3/000144.jpg', '/content/frames_test3/000146.jpg', '/content/frames_test3/000148.jpg', '/content/frames_test3/000150.jpg', '/content/frames_test3/000152.jpg', '/content/frames_test3/000154.jpg', '/content/frames_test3/000156.jpg', '/content/frames_test3/000158.jpg', '/content/frames_test3/000160.jpg', '/content/frames_test3/000162.jpg', '/content/frames_test3/000164.jpg', '/content/frames_test3/000166.jpg', '/content/frames_test3/000168.jpg', '/content/frames_test3/000170.jpg', '/content/frames_test3/000172.jpg', '/content/frames_test3/000174.jpg', '/content/frames_test3/000176.jpg', '/content/frames_test3/000178.jpg', '/content/frames_test3/000180.jpg', '/content/frames_test3/000182.jpg', '/content/frames_test3/000184.jpg', '/content/frames_test3/000186.jpg', '/content/frames_test3/000188.jpg', '/content/frames_test3/000190.jpg', '/content/frames_test3/000192.jpg', '/content/frames_test3/000194.jpg', '/content/frames_test3/000196.jpg', '/content/frames_test3/000198.jpg', '/content/frames_test3/000200.jpg', '/content/frames_test3/000202.jpg', '/content/frames_test3/000204.jpg', '/content/frames_test3/000206.jpg', '/content/frames_test3/000208.jpg', '/content/frames_test3/000210.jpg', '/content/frames_test3/000212.jpg', '/content/frames_test3/000214.jpg', '/content/frames_test3/000216.jpg', '/content/frames_test3/000218.jpg', '/content/frames_test3/000220.jpg', '/content/frames_test3/000222.jpg', '/content/frames_test3/000224.jpg', '/content/frames_test3/000226.jpg', '/content/frames_test3/000228.jpg', '/content/frames_test3/000230.jpg', '/content/frames_test3/000232.jpg', '/content/frames_test3/000234.jpg', '/content/frames_test3/000236.jpg', '/content/frames_test3/000238.jpg', '/content/frames_test3/000240.jpg', '/content/frames_test3/000242.jpg', '/content/frames_test3/000244.jpg', '/content/frames_test3/000246.jpg', '/content/frames_test3/000248.jpg', '/content/frames_test3/000250.jpg', '/content/frames_test3/000252.jpg', '/content/frames_test3/000254.jpg', '/content/frames_test3/000256.jpg', '/content/frames_test3/000258.jpg', '/content/frames_test3/000260.jpg', '/content/frames_test3/000262.jpg', '/content/frames_test3/000264.jpg', '/content/frames_test3/000266.jpg', '/content/frames_test3/000268.jpg', '/content/frames_test3/000270.jpg', '/content/frames_test3/000272.jpg', '/content/frames_test3/000274.jpg', '/content/frames_test3/000276.jpg', '/content/frames_test3/000278.jpg', '/content/frames_test3/000280.jpg', '/content/frames_test3/000282.jpg', '/content/frames_test3/000284.jpg', '/content/frames_test3/000286.jpg', '/content/frames_test3/000288.jpg', '/content/frames_test3/000290.jpg', '/content/frames_test3/000292.jpg', '/content/frames_test3/000294.jpg', '/content/frames_test3/000296.jpg', '/content/frames_test3/000298.jpg', '/content/frames_test3/000300.jpg', '/content/frames_test3/000302.jpg', '/content/frames_test3/000304.jpg', '/content/frames_test3/000306.jpg', '/content/frames_test3/000308.jpg', '/content/frames_test3/000310.jpg', '/content/frames_test3/000312.jpg', '/content/frames_test3/000314.jpg', '/content/frames_test3/000316.jpg', '/content/frames_test3/000318.jpg', '/content/frames_test3/000320.jpg', '/content/frames_test3/000322.jpg', '/content/frames_test3/000324.jpg', '/content/frames_test3/000326.jpg', '/content/frames_test3/000328.jpg', '/content/frames_test3/000330.jpg', '/content/frames_test3/000332.jpg', '/content/frames_test3/000334.jpg', '/content/frames_test3/000336.jpg', '/content/frames_test3/000338.jpg', '/content/frames_test3/000340.jpg', '/content/frames_test3/000342.jpg', '/content/frames_test3/000344.jpg', '/content/frames_test3/000346.jpg', '/content/frames_test3/000348.jpg', '/content/frames_test3/000350.jpg', '/content/frames_test3/000352.jpg', '/content/frames_test3/000354.jpg', '/content/frames_test3/000356.jpg', '/content/frames_test3/000358.jpg', '/content/frames_test3/000360.jpg', '/content/frames_test3/000362.jpg', '/content/frames_test3/000364.jpg', '/content/frames_test3/000366.jpg', '/content/frames_test3/000368.jpg', '/content/frames_test3/000370.jpg', '/content/frames_test3/000372.jpg', '/content/frames_test3/000374.jpg', '/content/frames_test3/000376.jpg', '/content/frames_test3/000378.jpg', '/content/frames_test3/000380.jpg', '/content/frames_test3/000382.jpg', '/content/frames_test3/000384.jpg', '/content/frames_test3/000386.jpg', '/content/frames_test3/000388.jpg', '/content/frames_test3/000390.jpg', '/content/frames_test3/000392.jpg', '/content/frames_test3/000394.jpg', '/content/frames_test3/000396.jpg', '/content/frames_test3/000398.jpg', '/content/frames_test3/000400.jpg', '/content/frames_test3/000402.jpg', '/content/frames_test3/000404.jpg', '/content/frames_test3/000406.jpg', '/content/frames_test3/000408.jpg', '/content/frames_test3/000410.jpg', '/content/frames_test3/000412.jpg', '/content/frames_test3/000414.jpg', '/content/frames_test3/000416.jpg', '/content/frames_test3/000418.jpg', '/content/frames_test3/000420.jpg', '/content/frames_test3/000422.jpg', '/content/frames_test3/000424.jpg', '/content/frames_test3/000426.jpg', '/content/frames_test3/000428.jpg', '/content/frames_test3/000430.jpg', '/content/frames_test3/000432.jpg', '/content/frames_test3/000434.jpg', '/content/frames_test3/000436.jpg', '/content/frames_test3/000438.jpg', '/content/frames_test3/000440.jpg', '/content/frames_test3/000442.jpg', '/content/frames_test3/000444.jpg', '/content/frames_test3/000446.jpg', '/content/frames_test3/000448.jpg', '/content/frames_test3/000450.jpg', '/content/frames_test3/000452.jpg', '/content/frames_test3/000454.jpg', '/content/frames_test3/000456.jpg', '/content/frames_test3/000458.jpg', '/content/frames_test3/000460.jpg', '/content/frames_test3/000462.jpg', '/content/frames_test3/000464.jpg', '/content/frames_test3/000466.jpg', '/content/frames_test3/000468.jpg', '/content/frames_test3/000470.jpg', '/content/frames_test3/000472.jpg', '/content/frames_test3/000474.jpg', '/content/frames_test3/000476.jpg', '/content/frames_test3/000478.jpg', '/content/frames_test3/000480.jpg', '/content/frames_test3/000482.jpg', '/content/frames_test3/000484.jpg', '/content/frames_test3/000486.jpg', '/content/frames_test3/000488.jpg', '/content/frames_test3/000490.jpg', '/content/frames_test3/000492.jpg', '/content/frames_test3/000494.jpg', '/content/frames_test3/000496.jpg', '/content/frames_test3/000498.jpg', '/content/frames_test3/000500.jpg', '/content/frames_test3/000502.jpg', '/content/frames_test3/000504.jpg', '/content/frames_test3/000506.jpg', '/content/frames_test3/000508.jpg', '/content/frames_test3/000510.jpg', '/content/frames_test3/000512.jpg', '/content/frames_test3/000514.jpg', '/content/frames_test3/000516.jpg', '/content/frames_test3/000518.jpg', '/content/frames_test3/000520.jpg', '/content/frames_test3/000522.jpg', '/content/frames_test3/000524.jpg', '/content/frames_test3/000526.jpg', '/content/frames_test3/000528.jpg', '/content/frames_test3/000530.jpg', '/content/frames_test3/000532.jpg', '/content/frames_test3/000534.jpg', '/content/frames_test3/000536.jpg', '/content/frames_test3/000538.jpg', '/content/frames_test3/000540.jpg', '/content/frames_test3/000542.jpg', '/content/frames_test3/000544.jpg', '/content/frames_test3/000546.jpg', '/content/frames_test3/000548.jpg', '/content/frames_test3/000550.jpg', '/content/frames_test3/000552.jpg', '/content/frames_test3/000554.jpg', '/content/frames_test3/000556.jpg', '/content/frames_test3/000558.jpg', '/content/frames_test3/000560.jpg', '/content/frames_test3/000562.jpg', '/content/frames_test3/000564.jpg', '/content/frames_test3/000566.jpg', '/content/frames_test3/000568.jpg', '/content/frames_test3/000570.jpg', '/content/frames_test3/000572.jpg', '/content/frames_test3/000574.jpg', '/content/frames_test3/000576.jpg', '/content/frames_test3/000578.jpg', '/content/frames_test3/000580.jpg', '/content/frames_test3/000582.jpg', '/content/frames_test3/000584.jpg', '/content/frames_test3/000586.jpg', '/content/frames_test3/000588.jpg', '/content/frames_test3/000590.jpg', '/content/frames_test3/000592.jpg', '/content/frames_test3/000594.jpg', '/content/frames_test3/000596.jpg', '/content/frames_test3/000598.jpg', '/content/frames_test3/000600.jpg', '/content/frames_test3/000602.jpg', '/content/frames_test3/000604.jpg', '/content/frames_test3/000606.jpg', '/content/frames_test3/000608.jpg', '/content/frames_test3/000610.jpg', '/content/frames_test3/000612.jpg', '/content/frames_test3/000614.jpg', '/content/frames_test3/000616.jpg', '/content/frames_test3/000618.jpg', '/content/frames_test3/000620.jpg', '/content/frames_test3/000622.jpg', '/content/frames_test3/000624.jpg', '/content/frames_test3/000626.jpg', '/content/frames_test3/000628.jpg', '/content/frames_test3/000630.jpg', '/content/frames_test3/000632.jpg', '/content/frames_test3/000634.jpg', '/content/frames_test3/000636.jpg', '/content/frames_test3/000638.jpg', '/content/frames_test3/000640.jpg', '/content/frames_test3/000642.jpg', '/content/frames_test3/000644.jpg', '/content/frames_test3/000646.jpg', '/content/frames_test3/000648.jpg', '/content/frames_test3/000650.jpg', '/content/frames_test3/000652.jpg', '/content/frames_test3/000654.jpg', '/content/frames_test3/000656.jpg', '/content/frames_test3/000658.jpg', '/content/frames_test3/000660.jpg', '/content/frames_test3/000662.jpg', '/content/frames_test3/000664.jpg', '/content/frames_test3/000666.jpg', '/content/frames_test3/000668.jpg', '/content/frames_test3/000670.jpg', '/content/frames_test3/000672.jpg', '/content/frames_test3/000674.jpg', '/content/frames_test3/000676.jpg', '/content/frames_test3/000678.jpg', '/content/frames_test3/000680.jpg', '/content/frames_test3/000682.jpg', '/content/frames_test3/000684.jpg', '/content/frames_test3/000686.jpg', '/content/frames_test3/000688.jpg', '/content/frames_test3/000690.jpg', '/content/frames_test3/000692.jpg', '/content/frames_test3/000694.jpg', '/content/frames_test3/000696.jpg', '/content/frames_test3/000698.jpg', '/content/frames_test3/000700.jpg', '/content/frames_test3/000702.jpg', '/content/frames_test3/000704.jpg', '/content/frames_test3/000706.jpg', '/content/frames_test3/000708.jpg', '/content/frames_test3/000710.jpg', '/content/frames_test3/000712.jpg', '/content/frames_test3/000714.jpg', '/content/frames_test3/000716.jpg', '/content/frames_test3/000718.jpg', '/content/frames_test3/000720.jpg', '/content/frames_test3/000722.jpg', '/content/frames_test3/000724.jpg', '/content/frames_test3/000726.jpg', '/content/frames_test3/000728.jpg', '/content/frames_test3/000730.jpg', '/content/frames_test3/000732.jpg', '/content/frames_test3/000734.jpg', '/content/frames_test3/000736.jpg', '/content/frames_test3/000738.jpg', '/content/frames_test3/000740.jpg', '/content/frames_test3/000742.jpg', '/content/frames_test3/000744.jpg', '/content/frames_test3/000746.jpg', '/content/frames_test3/000748.jpg', '/content/frames_test3/000750.jpg', '/content/frames_test3/000752.jpg', '/content/frames_test3/000754.jpg', '/content/frames_test3/000756.jpg', '/content/frames_test3/000758.jpg', '/content/frames_test3/000760.jpg', '/content/frames_test3/000762.jpg', '/content/frames_test3/000764.jpg', '/content/frames_test3/000766.jpg', '/content/frames_test3/000768.jpg', '/content/frames_test3/000770.jpg', '/content/frames_test3/000772.jpg', '/content/frames_test3/000774.jpg', '/content/frames_test3/000776.jpg', '/content/frames_test3/000778.jpg', '/content/frames_test3/000780.jpg', '/content/frames_test3/000782.jpg', '/content/frames_test3/000784.jpg', '/content/frames_test3/000786.jpg', '/content/frames_test3/000788.jpg', '/content/frames_test3/000790.jpg', '/content/frames_test3/000792.jpg', '/content/frames_test3/000794.jpg', '/content/frames_test3/000796.jpg', '/content/frames_test3/000798.jpg', '/content/frames_test3/000800.jpg', '/content/frames_test3/000802.jpg', '/content/frames_test3/000804.jpg', '/content/frames_test3/000806.jpg', '/content/frames_test3/000808.jpg', '/content/frames_test3/000810.jpg', '/content/frames_test3/000812.jpg', '/content/frames_test3/000814.jpg', '/content/frames_test3/000816.jpg', '/content/frames_test3/000818.jpg', '/content/frames_test3/000820.jpg', '/content/frames_test3/000822.jpg', '/content/frames_test3/000824.jpg', '/content/frames_test3/000826.jpg', '/content/frames_test3/000828.jpg', '/content/frames_test3/000830.jpg', '/content/frames_test3/000832.jpg', '/content/frames_test3/000834.jpg', '/content/frames_test3/000836.jpg', '/content/frames_test3/000838.jpg', '/content/frames_test3/000840.jpg', '/content/frames_test3/000842.jpg', '/content/frames_test3/000844.jpg', '/content/frames_test3/000846.jpg', '/content/frames_test3/000848.jpg', '/content/frames_test3/000850.jpg', '/content/frames_test3/000852.jpg', '/content/frames_test3/000854.jpg', '/content/frames_test3/000856.jpg', '/content/frames_test3/000858.jpg', '/content/frames_test3/000860.jpg', '/content/frames_test3/000862.jpg', '/content/frames_test3/000864.jpg', '/content/frames_test3/000866.jpg', '/content/frames_test3/000868.jpg', '/content/frames_test3/000870.jpg', '/content/frames_test3/000872.jpg', '/content/frames_test3/000874.jpg', '/content/frames_test3/000876.jpg', '/content/frames_test3/000878.jpg', '/content/frames_test3/000880.jpg', '/content/frames_test3/000882.jpg', '/content/frames_test3/000884.jpg', '/content/frames_test3/000886.jpg', '/content/frames_test3/000888.jpg', '/content/frames_test3/000890.jpg', '/content/frames_test3/000892.jpg', '/content/frames_test3/000894.jpg', '/content/frames_test3/000896.jpg', '/content/frames_test3/000898.jpg', '/content/frames_test3/000900.jpg', '/content/frames_test3/000902.jpg', '/content/frames_test3/000904.jpg', '/content/frames_test3/000906.jpg', '/content/frames_test3/000908.jpg', '/content/frames_test3/000910.jpg', '/content/frames_test3/000912.jpg', '/content/frames_test3/000914.jpg', '/content/frames_test3/000916.jpg', '/content/frames_test3/000918.jpg', '/content/frames_test3/000920.jpg', '/content/frames_test3/000922.jpg', '/content/frames_test3/000924.jpg', '/content/frames_test3/000926.jpg', '/content/frames_test3/000928.jpg', '/content/frames_test3/000930.jpg', '/content/frames_test3/000932.jpg', '/content/frames_test3/000934.jpg', '/content/frames_test3/000936.jpg', '/content/frames_test3/000938.jpg', '/content/frames_test3/000940.jpg', '/content/frames_test3/000942.jpg', '/content/frames_test3/000944.jpg', '/content/frames_test3/000946.jpg', '/content/frames_test3/000948.jpg', '/content/frames_test3/000950.jpg', '/content/frames_test3/000952.jpg', '/content/frames_test3/000954.jpg', '/content/frames_test3/000956.jpg', '/content/frames_test3/000958.jpg', '/content/frames_test3/000960.jpg', '/content/frames_test3/000962.jpg', '/content/frames_test3/000964.jpg', '/content/frames_test3/000966.jpg', '/content/frames_test3/000968.jpg', '/content/frames_test3/000970.jpg', '/content/frames_test3/000972.jpg', '/content/frames_test3/000974.jpg', '/content/frames_test3/000976.jpg', '/content/frames_test3/000978.jpg', '/content/frames_test3/000980.jpg', '/content/frames_test3/000982.jpg', '/content/frames_test3/000984.jpg', '/content/frames_test3/000986.jpg', '/content/frames_test3/000988.jpg', '/content/frames_test3/000990.jpg', '/content/frames_test3/000992.jpg', '/content/frames_test3/000994.jpg', '/content/frames_test3/000996.jpg', '/content/frames_test3/000998.jpg', '/content/frames_test3/001000.jpg', '/content/frames_test3/001002.jpg', '/content/frames_test3/001004.jpg', '/content/frames_test3/001006.jpg', '/content/frames_test3/001008.jpg', '/content/frames_test3/001010.jpg', '/content/frames_test3/001012.jpg', '/content/frames_test3/001014.jpg', '/content/frames_test3/001016.jpg', '/content/frames_test3/001018.jpg', '/content/frames_test3/001020.jpg', '/content/frames_test3/001022.jpg', '/content/frames_test3/001024.jpg', '/content/frames_test3/001026.jpg', '/content/frames_test3/001028.jpg', '/content/frames_test3/001030.jpg', '/content/frames_test3/001032.jpg', '/content/frames_test3/001034.jpg', '/content/frames_test3/001036.jpg', '/content/frames_test3/001038.jpg', '/content/frames_test3/001040.jpg', '/content/frames_test3/001042.jpg', '/content/frames_test3/001044.jpg', '/content/frames_test3/001046.jpg', '/content/frames_test3/001048.jpg', '/content/frames_test3/001050.jpg', '/content/frames_test3/001052.jpg', '/content/frames_test3/001054.jpg']\n",
            "528\n"
          ],
          "name": "stdout"
        }
      ]
    },
    {
      "cell_type": "code",
      "metadata": {
        "id": "Ce_Zeghh7bYt",
        "colab_type": "code",
        "outputId": "7d18763f-f904-4e7a-d52e-7af0ded0b89a",
        "colab": {
          "base_uri": "https://localhost:8080/",
          "height": 34
        }
      },
      "source": [
        "json_file = open('/content/drive/My Drive/tfrecords/model2.json', 'r')\n",
        "loaded_model_json = json_file.read()\n",
        "json_file.close()\n",
        "loaded_model = model_from_json(loaded_model_json)\n",
        "# load weights into new model\n",
        "loaded_model.load_weights(\"/content/drive/My Drive/tfrecords/model2.h5\")\n",
        "print(\"Loaded model from disk\")"
      ],
      "execution_count": 7,
      "outputs": [
        {
          "output_type": "stream",
          "text": [
            "Loaded model from disk\n"
          ],
          "name": "stdout"
        }
      ]
    },
    {
      "cell_type": "code",
      "metadata": {
        "id": "1lPvewhB7bYx",
        "colab_type": "code",
        "colab": {}
      },
      "source": [
        "def pad_frame(image,pad):\n",
        "    return np.pad(image, ((pad,pad),(0,0),(0,0)), 'constant')\n",
        "def interpolate_frame(img):\n",
        "    # img = np.concatenate((pad_frame(image1,36),pad_frame(image3,36)),axis = -1)\n",
        "#     img = np.expand_dims(img, axis=0)/255.\n",
        "    interpolated_image = np.zeros((6,1152,1920,3))\n",
        "    img = img/255.\n",
        "    # img = np.stack([img for i in range(6)],axis = 0)/255.\n",
        "    # interpolated_image = np.stack([interpolated_image for i in range(6)],axis = 0)\n",
        "    for row in range(9):\n",
        "        for col in range(15):\n",
        "            interpolated_image[:,row*128:row*128+128,col*128:col*128+128,:] = loaded_model.predict(img[:,row*128:row*128+128,col*128:col*128+128,:],batch_size = 16,use_multiprocessing = True)\n",
        "    \n",
        "    return interpolated_image"
      ],
      "execution_count": 0,
      "outputs": []
    },
    {
      "cell_type": "code",
      "metadata": {
        "scrolled": true,
        "id": "xi9EvIdD7bY0",
        "colab_type": "code",
        "colab": {}
      },
      "source": [
        "# image1 = cv2.imread('004177.jpg')\n",
        "# # image2 = cv2.imread('004178.jpg')\n",
        "# image3 = cv2.imread('004179.jpg')\n",
        "# interpolated_image = interpolate_frame(image1,image3)\n"
      ],
      "execution_count": 0,
      "outputs": []
    },
    {
      "cell_type": "code",
      "metadata": {
        "id": "6KxJYlxOeU_z",
        "colab_type": "code",
        "colab": {}
      },
      "source": [
        ""
      ],
      "execution_count": 0,
      "outputs": []
    },
    {
      "cell_type": "code",
      "metadata": {
        "id": "0n7YqwS6R80P",
        "colab_type": "code",
        "colab": {}
      },
      "source": [
        "def create_interpolated_frames(video_frames_filepath):\n",
        "  batch_of_images = []\n",
        "  batch_size = 0\n",
        "  interpolated_filenumber = 1\n",
        "  for i in range(len(video_frames_filepath)-1):\n",
        "    image1_path = video_frames_filepath[i]\n",
        "    image2_path = video_frames_filepath[i+1]\n",
        "    image1 = cv2.imread(image1_path)\n",
        "    image2 = cv2.imread(image2_path)\n",
        "    img = np.concatenate([pad_frame(image1,36),pad_frame(image2,36)],axis = -1)\n",
        "    img = np.expand_dims(img,axis = 0)\n",
        "    if batch_size < 5:\n",
        "      if type(batch_of_images) == list:\n",
        "        batch_of_images = img \n",
        "        batch_size += 1\n",
        "      else:\n",
        "        batch_of_images = np.concatenate([batch_of_images,img],axis = 0)\n",
        "        batch_size += 1\n",
        "      continue\n",
        "    else :\n",
        "      batch_of_images = np.concatenate([batch_of_images,img],axis = 0)\n",
        "      batch_size += 1\n",
        "      interpolated_images = interpolate_frame(batch_of_images)\n",
        "      for j in range(6):\n",
        "        image_name = './frames_test3/'+str(interpolated_filenumber).zfill(6)+'.jpg'\n",
        "        cv2.imwrite(image_name,interpolated_images[j,:,:,:]*255.)\n",
        "        interpolated_filenumber += 2\n",
        "      batch_size = 0\n",
        "      batch_of_images = []\n",
        "      print(\"yup\")\n"
      ],
      "execution_count": 0,
      "outputs": []
    },
    {
      "cell_type": "code",
      "metadata": {
        "id": "f428auUlZmTg",
        "colab_type": "code",
        "outputId": "2c2b34e6-fca0-4880-ce14-4f289e5a014c",
        "colab": {
          "base_uri": "https://localhost:8080/",
          "height": 54
        }
      },
      "source": [
        "print(list_of_files)"
      ],
      "execution_count": 10,
      "outputs": [
        {
          "output_type": "stream",
          "text": [
            "['/content/frames_test3/000568.jpg', '/content/frames_test3/000778.jpg', '/content/frames_test3/000746.jpg', '/content/frames_test3/001028.jpg', '/content/frames_test3/000890.jpg', '/content/frames_test3/000132.jpg', '/content/frames_test3/000490.jpg', '/content/frames_test3/000940.jpg', '/content/frames_test3/000820.jpg', '/content/frames_test3/000124.jpg', '/content/frames_test3/000880.jpg', '/content/frames_test3/000822.jpg', '/content/frames_test3/000814.jpg', '/content/frames_test3/000014.jpg', '/content/frames_test3/000922.jpg', '/content/frames_test3/000212.jpg', '/content/frames_test3/000858.jpg', '/content/frames_test3/000010.jpg', '/content/frames_test3/000198.jpg', '/content/frames_test3/000088.jpg', '/content/frames_test3/000216.jpg', '/content/frames_test3/000964.jpg', '/content/frames_test3/000176.jpg', '/content/frames_test3/000564.jpg', '/content/frames_test3/000426.jpg', '/content/frames_test3/001032.jpg', '/content/frames_test3/000768.jpg', '/content/frames_test3/000180.jpg', '/content/frames_test3/000398.jpg', '/content/frames_test3/000404.jpg', '/content/frames_test3/000570.jpg', '/content/frames_test3/000558.jpg', '/content/frames_test3/000794.jpg', '/content/frames_test3/000352.jpg', '/content/frames_test3/000488.jpg', '/content/frames_test3/000702.jpg', '/content/frames_test3/000026.jpg', '/content/frames_test3/000666.jpg', '/content/frames_test3/000722.jpg', '/content/frames_test3/000254.jpg', '/content/frames_test3/000174.jpg', '/content/frames_test3/000878.jpg', '/content/frames_test3/000740.jpg', '/content/frames_test3/000578.jpg', '/content/frames_test3/000718.jpg', '/content/frames_test3/000032.jpg', '/content/frames_test3/000392.jpg', '/content/frames_test3/000590.jpg', '/content/frames_test3/000498.jpg', '/content/frames_test3/000060.jpg', '/content/frames_test3/000454.jpg', '/content/frames_test3/001020.jpg', '/content/frames_test3/000232.jpg', '/content/frames_test3/000708.jpg', '/content/frames_test3/000268.jpg', '/content/frames_test3/000816.jpg', '/content/frames_test3/000750.jpg', '/content/frames_test3/000150.jpg', '/content/frames_test3/000306.jpg', '/content/frames_test3/000086.jpg', '/content/frames_test3/001030.jpg', '/content/frames_test3/000194.jpg', '/content/frames_test3/000908.jpg', '/content/frames_test3/000520.jpg', '/content/frames_test3/000072.jpg', '/content/frames_test3/000784.jpg', '/content/frames_test3/000610.jpg', '/content/frames_test3/000602.jpg', '/content/frames_test3/000582.jpg', '/content/frames_test3/001018.jpg', '/content/frames_test3/000134.jpg', '/content/frames_test3/000516.jpg', '/content/frames_test3/000798.jpg', '/content/frames_test3/000710.jpg', '/content/frames_test3/001036.jpg', '/content/frames_test3/000202.jpg', '/content/frames_test3/000834.jpg', '/content/frames_test3/000790.jpg', '/content/frames_test3/000372.jpg', '/content/frames_test3/000676.jpg', '/content/frames_test3/000724.jpg', '/content/frames_test3/000846.jpg', '/content/frames_test3/000532.jpg', '/content/frames_test3/000162.jpg', '/content/frames_test3/000572.jpg', '/content/frames_test3/000092.jpg', '/content/frames_test3/000046.jpg', '/content/frames_test3/000894.jpg', '/content/frames_test3/000260.jpg', '/content/frames_test3/000070.jpg', '/content/frames_test3/000100.jpg', '/content/frames_test3/000594.jpg', '/content/frames_test3/000218.jpg', '/content/frames_test3/000500.jpg', '/content/frames_test3/000320.jpg', '/content/frames_test3/001050.jpg', '/content/frames_test3/000146.jpg', '/content/frames_test3/000566.jpg', '/content/frames_test3/000464.jpg', '/content/frames_test3/001006.jpg', '/content/frames_test3/000864.jpg', '/content/frames_test3/000246.jpg', '/content/frames_test3/000350.jpg', '/content/frames_test3/000560.jpg', '/content/frames_test3/000684.jpg', '/content/frames_test3/000390.jpg', '/content/frames_test3/001008.jpg', '/content/frames_test3/000096.jpg', '/content/frames_test3/000506.jpg', '/content/frames_test3/000862.jpg', '/content/frames_test3/000290.jpg', '/content/frames_test3/000596.jpg', '/content/frames_test3/000148.jpg', '/content/frames_test3/000896.jpg', '/content/frames_test3/000462.jpg', '/content/frames_test3/000400.jpg', '/content/frames_test3/000524.jpg', '/content/frames_test3/000730.jpg', '/content/frames_test3/000618.jpg', '/content/frames_test3/000362.jpg', '/content/frames_test3/000120.jpg', '/content/frames_test3/000062.jpg', '/content/frames_test3/000080.jpg', '/content/frames_test3/000720.jpg', '/content/frames_test3/000122.jpg', '/content/frames_test3/000344.jpg', '/content/frames_test3/000810.jpg', '/content/frames_test3/000182.jpg', '/content/frames_test3/001000.jpg', '/content/frames_test3/000518.jpg', '/content/frames_test3/000736.jpg', '/content/frames_test3/000998.jpg', '/content/frames_test3/000836.jpg', '/content/frames_test3/000906.jpg', '/content/frames_test3/000808.jpg', '/content/frames_test3/000360.jpg', '/content/frames_test3/000058.jpg', '/content/frames_test3/001052.jpg', '/content/frames_test3/000950.jpg', '/content/frames_test3/000380.jpg', '/content/frames_test3/000474.jpg', '/content/frames_test3/000130.jpg', '/content/frames_test3/000854.jpg', '/content/frames_test3/000686.jpg', '/content/frames_test3/000338.jpg', '/content/frames_test3/000982.jpg', '/content/frames_test3/000308.jpg', '/content/frames_test3/000926.jpg', '/content/frames_test3/000668.jpg', '/content/frames_test3/000310.jpg', '/content/frames_test3/000224.jpg', '/content/frames_test3/000152.jpg', '/content/frames_test3/000116.jpg', '/content/frames_test3/000850.jpg', '/content/frames_test3/000200.jpg', '/content/frames_test3/000068.jpg', '/content/frames_test3/000432.jpg', '/content/frames_test3/000826.jpg', '/content/frames_test3/000056.jpg', '/content/frames_test3/000620.jpg', '/content/frames_test3/000410.jpg', '/content/frames_test3/000842.jpg', '/content/frames_test3/001026.jpg', '/content/frames_test3/000966.jpg', '/content/frames_test3/000640.jpg', '/content/frames_test3/000970.jpg', '/content/frames_test3/000792.jpg', '/content/frames_test3/000222.jpg', '/content/frames_test3/000886.jpg', '/content/frames_test3/000244.jpg', '/content/frames_test3/000772.jpg', '/content/frames_test3/000514.jpg', '/content/frames_test3/000098.jpg', '/content/frames_test3/000696.jpg', '/content/frames_test3/000252.jpg', '/content/frames_test3/000050.jpg', '/content/frames_test3/000394.jpg', '/content/frames_test3/000154.jpg', '/content/frames_test3/000534.jpg', '/content/frames_test3/000296.jpg', '/content/frames_test3/000624.jpg', '/content/frames_test3/000274.jpg', '/content/frames_test3/000436.jpg', '/content/frames_test3/000074.jpg', '/content/frames_test3/000752.jpg', '/content/frames_test3/000242.jpg', '/content/frames_test3/000402.jpg', '/content/frames_test3/000670.jpg', '/content/frames_test3/000226.jpg', '/content/frames_test3/000638.jpg', '/content/frames_test3/000396.jpg', '/content/frames_test3/000276.jpg', '/content/frames_test3/000420.jpg', '/content/frames_test3/000270.jpg', '/content/frames_test3/000634.jpg', '/content/frames_test3/000664.jpg', '/content/frames_test3/000574.jpg', '/content/frames_test3/001022.jpg', '/content/frames_test3/000658.jpg', '/content/frames_test3/000342.jpg', '/content/frames_test3/000526.jpg', '/content/frames_test3/000470.jpg', '/content/frames_test3/000782.jpg', '/content/frames_test3/000052.jpg', '/content/frames_test3/000868.jpg', '/content/frames_test3/000294.jpg', '/content/frames_test3/000442.jpg', '/content/frames_test3/000166.jpg', '/content/frames_test3/000898.jpg', '/content/frames_test3/000388.jpg', '/content/frames_test3/000156.jpg', '/content/frames_test3/001042.jpg', '/content/frames_test3/000872.jpg', '/content/frames_test3/000238.jpg', '/content/frames_test3/000358.jpg', '/content/frames_test3/000662.jpg', '/content/frames_test3/000434.jpg', '/content/frames_test3/000502.jpg', '/content/frames_test3/001024.jpg', '/content/frames_test3/000104.jpg', '/content/frames_test3/000138.jpg', '/content/frames_test3/000282.jpg', '/content/frames_test3/000136.jpg', '/content/frames_test3/000452.jpg', '/content/frames_test3/000642.jpg', '/content/frames_test3/000706.jpg', '/content/frames_test3/000492.jpg', '/content/frames_test3/000548.jpg', '/content/frames_test3/000924.jpg', '/content/frames_test3/000580.jpg', '/content/frames_test3/000102.jpg', '/content/frames_test3/000616.jpg', '/content/frames_test3/000530.jpg', '/content/frames_test3/000848.jpg', '/content/frames_test3/000480.jpg', '/content/frames_test3/000988.jpg', '/content/frames_test3/000128.jpg', '/content/frames_test3/000190.jpg', '/content/frames_test3/000844.jpg', '/content/frames_test3/000972.jpg', '/content/frames_test3/000000.jpg', '/content/frames_test3/000466.jpg', '/content/frames_test3/001040.jpg', '/content/frames_test3/000298.jpg', '/content/frames_test3/001016.jpg', '/content/frames_test3/000036.jpg', '/content/frames_test3/000118.jpg', '/content/frames_test3/000264.jpg', '/content/frames_test3/001014.jpg', '/content/frames_test3/000840.jpg', '/content/frames_test3/000348.jpg', '/content/frames_test3/000900.jpg', '/content/frames_test3/000734.jpg', '/content/frames_test3/000508.jpg', '/content/frames_test3/000126.jpg', '/content/frames_test3/000002.jpg', '/content/frames_test3/000496.jpg', '/content/frames_test3/000698.jpg', '/content/frames_test3/000324.jpg', '/content/frames_test3/000468.jpg', '/content/frames_test3/000418.jpg', '/content/frames_test3/000770.jpg', '/content/frames_test3/000712.jpg', '/content/frames_test3/000160.jpg', '/content/frames_test3/000608.jpg', '/content/frames_test3/000628.jpg', '/content/frames_test3/000550.jpg', '/content/frames_test3/000444.jpg', '/content/frames_test3/000636.jpg', '/content/frames_test3/000728.jpg', '/content/frames_test3/000758.jpg', '/content/frames_test3/001002.jpg', '/content/frames_test3/001010.jpg', '/content/frames_test3/000158.jpg', '/content/frames_test3/000354.jpg', '/content/frames_test3/000644.jpg', '/content/frames_test3/000760.jpg', '/content/frames_test3/000210.jpg', '/content/frames_test3/000942.jpg', '/content/frames_test3/000090.jpg', '/content/frames_test3/000376.jpg', '/content/frames_test3/000250.jpg', '/content/frames_test3/000030.jpg', '/content/frames_test3/000178.jpg', '/content/frames_test3/000020.jpg', '/content/frames_test3/000882.jpg', '/content/frames_test3/000184.jpg', '/content/frames_test3/000256.jpg', '/content/frames_test3/000860.jpg', '/content/frames_test3/000952.jpg', '/content/frames_test3/000428.jpg', '/content/frames_test3/000236.jpg', '/content/frames_test3/000738.jpg', '/content/frames_test3/000054.jpg', '/content/frames_test3/000504.jpg', '/content/frames_test3/000612.jpg', '/content/frames_test3/000632.jpg', '/content/frames_test3/000168.jpg', '/content/frames_test3/000742.jpg', '/content/frames_test3/000654.jpg', '/content/frames_test3/000976.jpg', '/content/frames_test3/000048.jpg', '/content/frames_test3/000806.jpg', '/content/frames_test3/000208.jpg', '/content/frames_test3/000856.jpg', '/content/frames_test3/000144.jpg', '/content/frames_test3/000240.jpg', '/content/frames_test3/000292.jpg', '/content/frames_test3/000754.jpg', '/content/frames_test3/000694.jpg', '/content/frames_test3/000196.jpg', '/content/frames_test3/000554.jpg', '/content/frames_test3/000446.jpg', '/content/frames_test3/000140.jpg', '/content/frames_test3/000606.jpg', '/content/frames_test3/000672.jpg', '/content/frames_test3/000996.jpg', '/content/frames_test3/000714.jpg', '/content/frames_test3/000660.jpg', '/content/frames_test3/000852.jpg', '/content/frames_test3/000592.jpg', '/content/frames_test3/000690.jpg', '/content/frames_test3/000272.jpg', '/content/frames_test3/000562.jpg', '/content/frames_test3/000776.jpg', '/content/frames_test3/000588.jpg', '/content/frames_test3/000584.jpg', '/content/frames_test3/000164.jpg', '/content/frames_test3/000622.jpg', '/content/frames_test3/000680.jpg', '/content/frames_test3/000326.jpg', '/content/frames_test3/000114.jpg', '/content/frames_test3/000932.jpg', '/content/frames_test3/000300.jpg', '/content/frames_test3/001048.jpg', '/content/frames_test3/000586.jpg', '/content/frames_test3/000652.jpg', '/content/frames_test3/001044.jpg', '/content/frames_test3/000016.jpg', '/content/frames_test3/001054.jpg', '/content/frames_test3/000818.jpg', '/content/frames_test3/000786.jpg', '/content/frames_test3/000756.jpg', '/content/frames_test3/000192.jpg', '/content/frames_test3/000892.jpg', '/content/frames_test3/000414.jpg', '/content/frames_test3/000936.jpg', '/content/frames_test3/000874.jpg', '/content/frames_test3/000614.jpg', '/content/frames_test3/000370.jpg', '/content/frames_test3/000318.jpg', '/content/frames_test3/000112.jpg', '/content/frames_test3/000914.jpg', '/content/frames_test3/000704.jpg', '/content/frames_test3/000948.jpg', '/content/frames_test3/000866.jpg', '/content/frames_test3/000456.jpg', '/content/frames_test3/000960.jpg', '/content/frames_test3/000170.jpg', '/content/frames_test3/000042.jpg', '/content/frames_test3/000968.jpg', '/content/frames_test3/000438.jpg', '/content/frames_test3/000920.jpg', '/content/frames_test3/000288.jpg', '/content/frames_test3/000812.jpg', '/content/frames_test3/000544.jpg', '/content/frames_test3/000004.jpg', '/content/frames_test3/000204.jpg', '/content/frames_test3/000034.jpg', '/content/frames_test3/000974.jpg', '/content/frames_test3/000110.jpg', '/content/frames_test3/000076.jpg', '/content/frames_test3/000302.jpg', '/content/frames_test3/000230.jpg', '/content/frames_test3/000990.jpg', '/content/frames_test3/000828.jpg', '/content/frames_test3/000766.jpg', '/content/frames_test3/000912.jpg', '/content/frames_test3/000374.jpg', '/content/frames_test3/000528.jpg', '/content/frames_test3/000214.jpg', '/content/frames_test3/000494.jpg', '/content/frames_test3/000978.jpg', '/content/frames_test3/001034.jpg', '/content/frames_test3/000234.jpg', '/content/frames_test3/000538.jpg', '/content/frames_test3/000788.jpg', '/content/frames_test3/000382.jpg', '/content/frames_test3/000448.jpg', '/content/frames_test3/000084.jpg', '/content/frames_test3/000962.jpg', '/content/frames_test3/000512.jpg', '/content/frames_test3/000424.jpg', '/content/frames_test3/000408.jpg', '/content/frames_test3/000656.jpg', '/content/frames_test3/000626.jpg', '/content/frames_test3/000280.jpg', '/content/frames_test3/000688.jpg', '/content/frames_test3/000286.jpg', '/content/frames_test3/000450.jpg', '/content/frames_test3/000802.jpg', '/content/frames_test3/000064.jpg', '/content/frames_test3/000648.jpg', '/content/frames_test3/000916.jpg', '/content/frames_test3/000870.jpg', '/content/frames_test3/000510.jpg', '/content/frames_test3/000228.jpg', '/content/frames_test3/000008.jpg', '/content/frames_test3/000262.jpg', '/content/frames_test3/000248.jpg', '/content/frames_test3/000366.jpg', '/content/frames_test3/000472.jpg', '/content/frames_test3/000682.jpg', '/content/frames_test3/000328.jpg', '/content/frames_test3/000460.jpg', '/content/frames_test3/000928.jpg', '/content/frames_test3/000458.jpg', '/content/frames_test3/001004.jpg', '/content/frames_test3/000804.jpg', '/content/frames_test3/000954.jpg', '/content/frames_test3/000040.jpg', '/content/frames_test3/000830.jpg', '/content/frames_test3/000980.jpg', '/content/frames_test3/000330.jpg', '/content/frames_test3/000430.jpg', '/content/frames_test3/000044.jpg', '/content/frames_test3/000172.jpg', '/content/frames_test3/000540.jpg', '/content/frames_test3/000384.jpg', '/content/frames_test3/000726.jpg', '/content/frames_test3/000006.jpg', '/content/frames_test3/000412.jpg', '/content/frames_test3/000692.jpg', '/content/frames_test3/000018.jpg', '/content/frames_test3/000536.jpg', '/content/frames_test3/000650.jpg', '/content/frames_test3/001046.jpg', '/content/frames_test3/000832.jpg', '/content/frames_test3/000440.jpg', '/content/frames_test3/000322.jpg', '/content/frames_test3/000334.jpg', '/content/frames_test3/000186.jpg', '/content/frames_test3/000266.jpg', '/content/frames_test3/000386.jpg', '/content/frames_test3/000984.jpg', '/content/frames_test3/000744.jpg', '/content/frames_test3/000888.jpg', '/content/frames_test3/000946.jpg', '/content/frames_test3/000346.jpg', '/content/frames_test3/000356.jpg', '/content/frames_test3/000378.jpg', '/content/frames_test3/000012.jpg', '/content/frames_test3/000944.jpg', '/content/frames_test3/000838.jpg', '/content/frames_test3/000482.jpg', '/content/frames_test3/000336.jpg', '/content/frames_test3/000630.jpg', '/content/frames_test3/000748.jpg', '/content/frames_test3/000188.jpg', '/content/frames_test3/000416.jpg', '/content/frames_test3/001012.jpg', '/content/frames_test3/000108.jpg', '/content/frames_test3/000066.jpg', '/content/frames_test3/000332.jpg', '/content/frames_test3/000024.jpg', '/content/frames_test3/000546.jpg', '/content/frames_test3/000476.jpg', '/content/frames_test3/000600.jpg', '/content/frames_test3/000314.jpg', '/content/frames_test3/000340.jpg', '/content/frames_test3/000258.jpg', '/content/frames_test3/000206.jpg', '/content/frames_test3/000956.jpg', '/content/frames_test3/000316.jpg', '/content/frames_test3/000106.jpg', '/content/frames_test3/000700.jpg', '/content/frames_test3/000930.jpg', '/content/frames_test3/000486.jpg', '/content/frames_test3/000800.jpg', '/content/frames_test3/000876.jpg', '/content/frames_test3/000542.jpg', '/content/frames_test3/000304.jpg', '/content/frames_test3/000552.jpg', '/content/frames_test3/000646.jpg', '/content/frames_test3/000484.jpg', '/content/frames_test3/000824.jpg', '/content/frames_test3/000368.jpg', '/content/frames_test3/000598.jpg', '/content/frames_test3/000716.jpg', '/content/frames_test3/000994.jpg', '/content/frames_test3/000284.jpg', '/content/frames_test3/000774.jpg', '/content/frames_test3/000986.jpg', '/content/frames_test3/000038.jpg', '/content/frames_test3/000678.jpg', '/content/frames_test3/000992.jpg', '/content/frames_test3/000604.jpg', '/content/frames_test3/000522.jpg', '/content/frames_test3/000732.jpg', '/content/frames_test3/000910.jpg', '/content/frames_test3/000674.jpg', '/content/frames_test3/000022.jpg', '/content/frames_test3/000918.jpg', '/content/frames_test3/000406.jpg', '/content/frames_test3/000938.jpg', '/content/frames_test3/000142.jpg', '/content/frames_test3/000028.jpg', '/content/frames_test3/000762.jpg', '/content/frames_test3/000904.jpg', '/content/frames_test3/000780.jpg', '/content/frames_test3/000576.jpg', '/content/frames_test3/000958.jpg', '/content/frames_test3/000364.jpg', '/content/frames_test3/000796.jpg', '/content/frames_test3/000422.jpg', '/content/frames_test3/000312.jpg', '/content/frames_test3/000220.jpg', '/content/frames_test3/000764.jpg', '/content/frames_test3/000556.jpg', '/content/frames_test3/000902.jpg', '/content/frames_test3/000082.jpg', '/content/frames_test3/000278.jpg', '/content/frames_test3/000478.jpg', '/content/frames_test3/001038.jpg', '/content/frames_test3/000934.jpg', '/content/frames_test3/000078.jpg', '/content/frames_test3/000094.jpg', '/content/frames_test3/000884.jpg']\n"
          ],
          "name": "stdout"
        }
      ]
    },
    {
      "cell_type": "code",
      "metadata": {
        "id": "j4Vqjzb7ZUPR",
        "colab_type": "code",
        "outputId": "71cef3b4-8b54-4008-cdfe-51906b73a70b",
        "colab": {
          "base_uri": "https://localhost:8080/",
          "height": 1000
        }
      },
      "source": [
        "create_interpolated_frames(sorted(list_of_files))"
      ],
      "execution_count": 11,
      "outputs": [
        {
          "output_type": "stream",
          "text": [
            "yup\n",
            "yup\n",
            "yup\n",
            "yup\n",
            "yup\n",
            "yup\n",
            "yup\n",
            "yup\n",
            "yup\n",
            "yup\n",
            "yup\n",
            "yup\n",
            "yup\n",
            "yup\n",
            "yup\n",
            "yup\n",
            "yup\n",
            "yup\n",
            "yup\n",
            "yup\n",
            "yup\n",
            "yup\n",
            "yup\n",
            "yup\n",
            "yup\n",
            "yup\n",
            "yup\n",
            "yup\n",
            "yup\n",
            "yup\n",
            "yup\n",
            "yup\n",
            "yup\n",
            "yup\n",
            "yup\n",
            "yup\n",
            "yup\n",
            "yup\n",
            "yup\n",
            "yup\n",
            "yup\n",
            "yup\n",
            "yup\n",
            "yup\n",
            "yup\n",
            "yup\n",
            "yup\n",
            "yup\n",
            "yup\n",
            "yup\n",
            "yup\n",
            "yup\n",
            "yup\n",
            "yup\n",
            "yup\n",
            "yup\n",
            "yup\n",
            "yup\n",
            "yup\n",
            "yup\n",
            "yup\n",
            "yup\n",
            "yup\n",
            "yup\n",
            "yup\n",
            "yup\n",
            "yup\n",
            "yup\n",
            "yup\n",
            "yup\n",
            "yup\n",
            "yup\n",
            "yup\n",
            "yup\n",
            "yup\n",
            "yup\n",
            "yup\n",
            "yup\n",
            "yup\n",
            "yup\n",
            "yup\n",
            "yup\n",
            "yup\n",
            "yup\n",
            "yup\n",
            "yup\n",
            "yup\n"
          ],
          "name": "stdout"
        }
      ]
    },
    {
      "cell_type": "code",
      "metadata": {
        "id": "sgtt9SHTrqo1",
        "colab_type": "code",
        "colab": {}
      },
      "source": [
        "def cut_extra(video_frames_list):\n",
        "  x = 1\n",
        "  for frame in video_frames_list:\n",
        "    file_name  = os.path.basename(os.path.splitext(frame)[0])\n",
        "    current_file_to_cut = str(x).zfill(6)\n",
        "    if(current_file_to_cut==file_name):\n",
        "      img = cv2.imread(frame)\n",
        "      img = img[36:1080+36,:,:]\n",
        "      cv2.imwrite(frame,img)\n",
        "      x += 2"
      ],
      "execution_count": 0,
      "outputs": []
    },
    {
      "cell_type": "code",
      "metadata": {
        "id": "I9ipdN-4t__f",
        "colab_type": "code",
        "outputId": "5b527daa-41f0-43d1-9caa-886e7c3ef025",
        "colab": {
          "base_uri": "https://localhost:8080/",
          "height": 54
        }
      },
      "source": [
        "list_of_files = sorted(glob.glob(\"/content/frames_test3/*.jpg\"))\n",
        "print(list_of_files)"
      ],
      "execution_count": 13,
      "outputs": [
        {
          "output_type": "stream",
          "text": [
            "['/content/frames_test3/000000.jpg', '/content/frames_test3/000001.jpg', '/content/frames_test3/000002.jpg', '/content/frames_test3/000003.jpg', '/content/frames_test3/000004.jpg', '/content/frames_test3/000005.jpg', '/content/frames_test3/000006.jpg', '/content/frames_test3/000007.jpg', '/content/frames_test3/000008.jpg', '/content/frames_test3/000009.jpg', '/content/frames_test3/000010.jpg', '/content/frames_test3/000011.jpg', '/content/frames_test3/000012.jpg', '/content/frames_test3/000013.jpg', '/content/frames_test3/000014.jpg', '/content/frames_test3/000015.jpg', '/content/frames_test3/000016.jpg', '/content/frames_test3/000017.jpg', '/content/frames_test3/000018.jpg', '/content/frames_test3/000019.jpg', '/content/frames_test3/000020.jpg', '/content/frames_test3/000021.jpg', '/content/frames_test3/000022.jpg', '/content/frames_test3/000023.jpg', '/content/frames_test3/000024.jpg', '/content/frames_test3/000025.jpg', '/content/frames_test3/000026.jpg', '/content/frames_test3/000027.jpg', '/content/frames_test3/000028.jpg', '/content/frames_test3/000029.jpg', '/content/frames_test3/000030.jpg', '/content/frames_test3/000031.jpg', '/content/frames_test3/000032.jpg', '/content/frames_test3/000033.jpg', '/content/frames_test3/000034.jpg', '/content/frames_test3/000035.jpg', '/content/frames_test3/000036.jpg', '/content/frames_test3/000037.jpg', '/content/frames_test3/000038.jpg', '/content/frames_test3/000039.jpg', '/content/frames_test3/000040.jpg', '/content/frames_test3/000041.jpg', '/content/frames_test3/000042.jpg', '/content/frames_test3/000043.jpg', '/content/frames_test3/000044.jpg', '/content/frames_test3/000045.jpg', '/content/frames_test3/000046.jpg', '/content/frames_test3/000047.jpg', '/content/frames_test3/000048.jpg', '/content/frames_test3/000049.jpg', '/content/frames_test3/000050.jpg', '/content/frames_test3/000051.jpg', '/content/frames_test3/000052.jpg', '/content/frames_test3/000053.jpg', '/content/frames_test3/000054.jpg', '/content/frames_test3/000055.jpg', '/content/frames_test3/000056.jpg', '/content/frames_test3/000057.jpg', '/content/frames_test3/000058.jpg', '/content/frames_test3/000059.jpg', '/content/frames_test3/000060.jpg', '/content/frames_test3/000061.jpg', '/content/frames_test3/000062.jpg', '/content/frames_test3/000063.jpg', '/content/frames_test3/000064.jpg', '/content/frames_test3/000065.jpg', '/content/frames_test3/000066.jpg', '/content/frames_test3/000067.jpg', '/content/frames_test3/000068.jpg', '/content/frames_test3/000069.jpg', '/content/frames_test3/000070.jpg', '/content/frames_test3/000071.jpg', '/content/frames_test3/000072.jpg', '/content/frames_test3/000073.jpg', '/content/frames_test3/000074.jpg', '/content/frames_test3/000075.jpg', '/content/frames_test3/000076.jpg', '/content/frames_test3/000077.jpg', '/content/frames_test3/000078.jpg', '/content/frames_test3/000079.jpg', '/content/frames_test3/000080.jpg', '/content/frames_test3/000081.jpg', '/content/frames_test3/000082.jpg', '/content/frames_test3/000083.jpg', '/content/frames_test3/000084.jpg', '/content/frames_test3/000085.jpg', '/content/frames_test3/000086.jpg', '/content/frames_test3/000087.jpg', '/content/frames_test3/000088.jpg', '/content/frames_test3/000089.jpg', '/content/frames_test3/000090.jpg', '/content/frames_test3/000091.jpg', '/content/frames_test3/000092.jpg', '/content/frames_test3/000093.jpg', '/content/frames_test3/000094.jpg', '/content/frames_test3/000095.jpg', '/content/frames_test3/000096.jpg', '/content/frames_test3/000097.jpg', '/content/frames_test3/000098.jpg', '/content/frames_test3/000099.jpg', '/content/frames_test3/000100.jpg', '/content/frames_test3/000101.jpg', '/content/frames_test3/000102.jpg', '/content/frames_test3/000103.jpg', '/content/frames_test3/000104.jpg', '/content/frames_test3/000105.jpg', '/content/frames_test3/000106.jpg', '/content/frames_test3/000107.jpg', '/content/frames_test3/000108.jpg', '/content/frames_test3/000109.jpg', '/content/frames_test3/000110.jpg', '/content/frames_test3/000111.jpg', '/content/frames_test3/000112.jpg', '/content/frames_test3/000113.jpg', '/content/frames_test3/000114.jpg', '/content/frames_test3/000115.jpg', '/content/frames_test3/000116.jpg', '/content/frames_test3/000117.jpg', '/content/frames_test3/000118.jpg', '/content/frames_test3/000119.jpg', '/content/frames_test3/000120.jpg', '/content/frames_test3/000121.jpg', '/content/frames_test3/000122.jpg', '/content/frames_test3/000123.jpg', '/content/frames_test3/000124.jpg', '/content/frames_test3/000125.jpg', '/content/frames_test3/000126.jpg', '/content/frames_test3/000127.jpg', '/content/frames_test3/000128.jpg', '/content/frames_test3/000129.jpg', '/content/frames_test3/000130.jpg', '/content/frames_test3/000131.jpg', '/content/frames_test3/000132.jpg', '/content/frames_test3/000133.jpg', '/content/frames_test3/000134.jpg', '/content/frames_test3/000135.jpg', '/content/frames_test3/000136.jpg', '/content/frames_test3/000137.jpg', '/content/frames_test3/000138.jpg', '/content/frames_test3/000139.jpg', '/content/frames_test3/000140.jpg', '/content/frames_test3/000141.jpg', '/content/frames_test3/000142.jpg', '/content/frames_test3/000143.jpg', '/content/frames_test3/000144.jpg', '/content/frames_test3/000145.jpg', '/content/frames_test3/000146.jpg', '/content/frames_test3/000147.jpg', '/content/frames_test3/000148.jpg', '/content/frames_test3/000149.jpg', '/content/frames_test3/000150.jpg', '/content/frames_test3/000151.jpg', '/content/frames_test3/000152.jpg', '/content/frames_test3/000153.jpg', '/content/frames_test3/000154.jpg', '/content/frames_test3/000155.jpg', '/content/frames_test3/000156.jpg', '/content/frames_test3/000157.jpg', '/content/frames_test3/000158.jpg', '/content/frames_test3/000159.jpg', '/content/frames_test3/000160.jpg', '/content/frames_test3/000161.jpg', '/content/frames_test3/000162.jpg', '/content/frames_test3/000163.jpg', '/content/frames_test3/000164.jpg', '/content/frames_test3/000165.jpg', '/content/frames_test3/000166.jpg', '/content/frames_test3/000167.jpg', '/content/frames_test3/000168.jpg', '/content/frames_test3/000169.jpg', '/content/frames_test3/000170.jpg', '/content/frames_test3/000171.jpg', '/content/frames_test3/000172.jpg', '/content/frames_test3/000173.jpg', '/content/frames_test3/000174.jpg', '/content/frames_test3/000175.jpg', '/content/frames_test3/000176.jpg', '/content/frames_test3/000177.jpg', '/content/frames_test3/000178.jpg', '/content/frames_test3/000179.jpg', '/content/frames_test3/000180.jpg', '/content/frames_test3/000181.jpg', '/content/frames_test3/000182.jpg', '/content/frames_test3/000183.jpg', '/content/frames_test3/000184.jpg', '/content/frames_test3/000185.jpg', '/content/frames_test3/000186.jpg', '/content/frames_test3/000187.jpg', '/content/frames_test3/000188.jpg', '/content/frames_test3/000189.jpg', '/content/frames_test3/000190.jpg', '/content/frames_test3/000191.jpg', '/content/frames_test3/000192.jpg', '/content/frames_test3/000193.jpg', '/content/frames_test3/000194.jpg', '/content/frames_test3/000195.jpg', '/content/frames_test3/000196.jpg', '/content/frames_test3/000197.jpg', '/content/frames_test3/000198.jpg', '/content/frames_test3/000199.jpg', '/content/frames_test3/000200.jpg', '/content/frames_test3/000201.jpg', '/content/frames_test3/000202.jpg', '/content/frames_test3/000203.jpg', '/content/frames_test3/000204.jpg', '/content/frames_test3/000205.jpg', '/content/frames_test3/000206.jpg', '/content/frames_test3/000207.jpg', '/content/frames_test3/000208.jpg', '/content/frames_test3/000209.jpg', '/content/frames_test3/000210.jpg', '/content/frames_test3/000211.jpg', '/content/frames_test3/000212.jpg', '/content/frames_test3/000213.jpg', '/content/frames_test3/000214.jpg', '/content/frames_test3/000215.jpg', '/content/frames_test3/000216.jpg', '/content/frames_test3/000217.jpg', '/content/frames_test3/000218.jpg', '/content/frames_test3/000219.jpg', '/content/frames_test3/000220.jpg', '/content/frames_test3/000221.jpg', '/content/frames_test3/000222.jpg', '/content/frames_test3/000223.jpg', '/content/frames_test3/000224.jpg', '/content/frames_test3/000225.jpg', '/content/frames_test3/000226.jpg', '/content/frames_test3/000227.jpg', '/content/frames_test3/000228.jpg', '/content/frames_test3/000229.jpg', '/content/frames_test3/000230.jpg', '/content/frames_test3/000231.jpg', '/content/frames_test3/000232.jpg', '/content/frames_test3/000233.jpg', '/content/frames_test3/000234.jpg', '/content/frames_test3/000235.jpg', '/content/frames_test3/000236.jpg', '/content/frames_test3/000237.jpg', '/content/frames_test3/000238.jpg', '/content/frames_test3/000239.jpg', '/content/frames_test3/000240.jpg', '/content/frames_test3/000241.jpg', '/content/frames_test3/000242.jpg', '/content/frames_test3/000243.jpg', '/content/frames_test3/000244.jpg', '/content/frames_test3/000245.jpg', '/content/frames_test3/000246.jpg', '/content/frames_test3/000247.jpg', '/content/frames_test3/000248.jpg', '/content/frames_test3/000249.jpg', '/content/frames_test3/000250.jpg', '/content/frames_test3/000251.jpg', '/content/frames_test3/000252.jpg', '/content/frames_test3/000253.jpg', '/content/frames_test3/000254.jpg', '/content/frames_test3/000255.jpg', '/content/frames_test3/000256.jpg', '/content/frames_test3/000257.jpg', '/content/frames_test3/000258.jpg', '/content/frames_test3/000259.jpg', '/content/frames_test3/000260.jpg', '/content/frames_test3/000261.jpg', '/content/frames_test3/000262.jpg', '/content/frames_test3/000263.jpg', '/content/frames_test3/000264.jpg', '/content/frames_test3/000265.jpg', '/content/frames_test3/000266.jpg', '/content/frames_test3/000267.jpg', '/content/frames_test3/000268.jpg', '/content/frames_test3/000269.jpg', '/content/frames_test3/000270.jpg', '/content/frames_test3/000271.jpg', '/content/frames_test3/000272.jpg', '/content/frames_test3/000273.jpg', '/content/frames_test3/000274.jpg', '/content/frames_test3/000275.jpg', '/content/frames_test3/000276.jpg', '/content/frames_test3/000277.jpg', '/content/frames_test3/000278.jpg', '/content/frames_test3/000279.jpg', '/content/frames_test3/000280.jpg', '/content/frames_test3/000281.jpg', '/content/frames_test3/000282.jpg', '/content/frames_test3/000283.jpg', '/content/frames_test3/000284.jpg', '/content/frames_test3/000285.jpg', '/content/frames_test3/000286.jpg', '/content/frames_test3/000287.jpg', '/content/frames_test3/000288.jpg', '/content/frames_test3/000289.jpg', '/content/frames_test3/000290.jpg', '/content/frames_test3/000291.jpg', '/content/frames_test3/000292.jpg', '/content/frames_test3/000293.jpg', '/content/frames_test3/000294.jpg', '/content/frames_test3/000295.jpg', '/content/frames_test3/000296.jpg', '/content/frames_test3/000297.jpg', '/content/frames_test3/000298.jpg', '/content/frames_test3/000299.jpg', '/content/frames_test3/000300.jpg', '/content/frames_test3/000301.jpg', '/content/frames_test3/000302.jpg', '/content/frames_test3/000303.jpg', '/content/frames_test3/000304.jpg', '/content/frames_test3/000305.jpg', '/content/frames_test3/000306.jpg', '/content/frames_test3/000307.jpg', '/content/frames_test3/000308.jpg', '/content/frames_test3/000309.jpg', '/content/frames_test3/000310.jpg', '/content/frames_test3/000311.jpg', '/content/frames_test3/000312.jpg', '/content/frames_test3/000313.jpg', '/content/frames_test3/000314.jpg', '/content/frames_test3/000315.jpg', '/content/frames_test3/000316.jpg', '/content/frames_test3/000317.jpg', '/content/frames_test3/000318.jpg', '/content/frames_test3/000319.jpg', '/content/frames_test3/000320.jpg', '/content/frames_test3/000321.jpg', '/content/frames_test3/000322.jpg', '/content/frames_test3/000323.jpg', '/content/frames_test3/000324.jpg', '/content/frames_test3/000325.jpg', '/content/frames_test3/000326.jpg', '/content/frames_test3/000327.jpg', '/content/frames_test3/000328.jpg', '/content/frames_test3/000329.jpg', '/content/frames_test3/000330.jpg', '/content/frames_test3/000331.jpg', '/content/frames_test3/000332.jpg', '/content/frames_test3/000333.jpg', '/content/frames_test3/000334.jpg', '/content/frames_test3/000335.jpg', '/content/frames_test3/000336.jpg', '/content/frames_test3/000337.jpg', '/content/frames_test3/000338.jpg', '/content/frames_test3/000339.jpg', '/content/frames_test3/000340.jpg', '/content/frames_test3/000341.jpg', '/content/frames_test3/000342.jpg', '/content/frames_test3/000343.jpg', '/content/frames_test3/000344.jpg', '/content/frames_test3/000345.jpg', '/content/frames_test3/000346.jpg', '/content/frames_test3/000347.jpg', '/content/frames_test3/000348.jpg', '/content/frames_test3/000349.jpg', '/content/frames_test3/000350.jpg', '/content/frames_test3/000351.jpg', '/content/frames_test3/000352.jpg', '/content/frames_test3/000353.jpg', '/content/frames_test3/000354.jpg', '/content/frames_test3/000355.jpg', '/content/frames_test3/000356.jpg', '/content/frames_test3/000357.jpg', '/content/frames_test3/000358.jpg', '/content/frames_test3/000359.jpg', '/content/frames_test3/000360.jpg', '/content/frames_test3/000361.jpg', '/content/frames_test3/000362.jpg', '/content/frames_test3/000363.jpg', '/content/frames_test3/000364.jpg', '/content/frames_test3/000365.jpg', '/content/frames_test3/000366.jpg', '/content/frames_test3/000367.jpg', '/content/frames_test3/000368.jpg', '/content/frames_test3/000369.jpg', '/content/frames_test3/000370.jpg', '/content/frames_test3/000371.jpg', '/content/frames_test3/000372.jpg', '/content/frames_test3/000373.jpg', '/content/frames_test3/000374.jpg', '/content/frames_test3/000375.jpg', '/content/frames_test3/000376.jpg', '/content/frames_test3/000377.jpg', '/content/frames_test3/000378.jpg', '/content/frames_test3/000379.jpg', '/content/frames_test3/000380.jpg', '/content/frames_test3/000381.jpg', '/content/frames_test3/000382.jpg', '/content/frames_test3/000383.jpg', '/content/frames_test3/000384.jpg', '/content/frames_test3/000385.jpg', '/content/frames_test3/000386.jpg', '/content/frames_test3/000387.jpg', '/content/frames_test3/000388.jpg', '/content/frames_test3/000389.jpg', '/content/frames_test3/000390.jpg', '/content/frames_test3/000391.jpg', '/content/frames_test3/000392.jpg', '/content/frames_test3/000393.jpg', '/content/frames_test3/000394.jpg', '/content/frames_test3/000395.jpg', '/content/frames_test3/000396.jpg', '/content/frames_test3/000397.jpg', '/content/frames_test3/000398.jpg', '/content/frames_test3/000399.jpg', '/content/frames_test3/000400.jpg', '/content/frames_test3/000401.jpg', '/content/frames_test3/000402.jpg', '/content/frames_test3/000403.jpg', '/content/frames_test3/000404.jpg', '/content/frames_test3/000405.jpg', '/content/frames_test3/000406.jpg', '/content/frames_test3/000407.jpg', '/content/frames_test3/000408.jpg', '/content/frames_test3/000409.jpg', '/content/frames_test3/000410.jpg', '/content/frames_test3/000411.jpg', '/content/frames_test3/000412.jpg', '/content/frames_test3/000413.jpg', '/content/frames_test3/000414.jpg', '/content/frames_test3/000415.jpg', '/content/frames_test3/000416.jpg', '/content/frames_test3/000417.jpg', '/content/frames_test3/000418.jpg', '/content/frames_test3/000419.jpg', '/content/frames_test3/000420.jpg', '/content/frames_test3/000421.jpg', '/content/frames_test3/000422.jpg', '/content/frames_test3/000423.jpg', '/content/frames_test3/000424.jpg', '/content/frames_test3/000425.jpg', '/content/frames_test3/000426.jpg', '/content/frames_test3/000427.jpg', '/content/frames_test3/000428.jpg', '/content/frames_test3/000429.jpg', '/content/frames_test3/000430.jpg', '/content/frames_test3/000431.jpg', '/content/frames_test3/000432.jpg', '/content/frames_test3/000433.jpg', '/content/frames_test3/000434.jpg', '/content/frames_test3/000435.jpg', '/content/frames_test3/000436.jpg', '/content/frames_test3/000437.jpg', '/content/frames_test3/000438.jpg', '/content/frames_test3/000439.jpg', '/content/frames_test3/000440.jpg', '/content/frames_test3/000441.jpg', '/content/frames_test3/000442.jpg', '/content/frames_test3/000443.jpg', '/content/frames_test3/000444.jpg', '/content/frames_test3/000445.jpg', '/content/frames_test3/000446.jpg', '/content/frames_test3/000447.jpg', '/content/frames_test3/000448.jpg', '/content/frames_test3/000449.jpg', '/content/frames_test3/000450.jpg', '/content/frames_test3/000451.jpg', '/content/frames_test3/000452.jpg', '/content/frames_test3/000453.jpg', '/content/frames_test3/000454.jpg', '/content/frames_test3/000455.jpg', '/content/frames_test3/000456.jpg', '/content/frames_test3/000457.jpg', '/content/frames_test3/000458.jpg', '/content/frames_test3/000459.jpg', '/content/frames_test3/000460.jpg', '/content/frames_test3/000461.jpg', '/content/frames_test3/000462.jpg', '/content/frames_test3/000463.jpg', '/content/frames_test3/000464.jpg', '/content/frames_test3/000465.jpg', '/content/frames_test3/000466.jpg', '/content/frames_test3/000467.jpg', '/content/frames_test3/000468.jpg', '/content/frames_test3/000469.jpg', '/content/frames_test3/000470.jpg', '/content/frames_test3/000471.jpg', '/content/frames_test3/000472.jpg', '/content/frames_test3/000473.jpg', '/content/frames_test3/000474.jpg', '/content/frames_test3/000475.jpg', '/content/frames_test3/000476.jpg', '/content/frames_test3/000477.jpg', '/content/frames_test3/000478.jpg', '/content/frames_test3/000479.jpg', '/content/frames_test3/000480.jpg', '/content/frames_test3/000481.jpg', '/content/frames_test3/000482.jpg', '/content/frames_test3/000483.jpg', '/content/frames_test3/000484.jpg', '/content/frames_test3/000485.jpg', '/content/frames_test3/000486.jpg', '/content/frames_test3/000487.jpg', '/content/frames_test3/000488.jpg', '/content/frames_test3/000489.jpg', '/content/frames_test3/000490.jpg', '/content/frames_test3/000491.jpg', '/content/frames_test3/000492.jpg', '/content/frames_test3/000493.jpg', '/content/frames_test3/000494.jpg', '/content/frames_test3/000495.jpg', '/content/frames_test3/000496.jpg', '/content/frames_test3/000497.jpg', '/content/frames_test3/000498.jpg', '/content/frames_test3/000499.jpg', '/content/frames_test3/000500.jpg', '/content/frames_test3/000501.jpg', '/content/frames_test3/000502.jpg', '/content/frames_test3/000503.jpg', '/content/frames_test3/000504.jpg', '/content/frames_test3/000505.jpg', '/content/frames_test3/000506.jpg', '/content/frames_test3/000507.jpg', '/content/frames_test3/000508.jpg', '/content/frames_test3/000509.jpg', '/content/frames_test3/000510.jpg', '/content/frames_test3/000511.jpg', '/content/frames_test3/000512.jpg', '/content/frames_test3/000513.jpg', '/content/frames_test3/000514.jpg', '/content/frames_test3/000515.jpg', '/content/frames_test3/000516.jpg', '/content/frames_test3/000517.jpg', '/content/frames_test3/000518.jpg', '/content/frames_test3/000519.jpg', '/content/frames_test3/000520.jpg', '/content/frames_test3/000521.jpg', '/content/frames_test3/000522.jpg', '/content/frames_test3/000523.jpg', '/content/frames_test3/000524.jpg', '/content/frames_test3/000525.jpg', '/content/frames_test3/000526.jpg', '/content/frames_test3/000527.jpg', '/content/frames_test3/000528.jpg', '/content/frames_test3/000529.jpg', '/content/frames_test3/000530.jpg', '/content/frames_test3/000531.jpg', '/content/frames_test3/000532.jpg', '/content/frames_test3/000533.jpg', '/content/frames_test3/000534.jpg', '/content/frames_test3/000535.jpg', '/content/frames_test3/000536.jpg', '/content/frames_test3/000537.jpg', '/content/frames_test3/000538.jpg', '/content/frames_test3/000539.jpg', '/content/frames_test3/000540.jpg', '/content/frames_test3/000541.jpg', '/content/frames_test3/000542.jpg', '/content/frames_test3/000543.jpg', '/content/frames_test3/000544.jpg', '/content/frames_test3/000545.jpg', '/content/frames_test3/000546.jpg', '/content/frames_test3/000547.jpg', '/content/frames_test3/000548.jpg', '/content/frames_test3/000549.jpg', '/content/frames_test3/000550.jpg', '/content/frames_test3/000551.jpg', '/content/frames_test3/000552.jpg', '/content/frames_test3/000553.jpg', '/content/frames_test3/000554.jpg', '/content/frames_test3/000555.jpg', '/content/frames_test3/000556.jpg', '/content/frames_test3/000557.jpg', '/content/frames_test3/000558.jpg', '/content/frames_test3/000559.jpg', '/content/frames_test3/000560.jpg', '/content/frames_test3/000561.jpg', '/content/frames_test3/000562.jpg', '/content/frames_test3/000563.jpg', '/content/frames_test3/000564.jpg', '/content/frames_test3/000565.jpg', '/content/frames_test3/000566.jpg', '/content/frames_test3/000567.jpg', '/content/frames_test3/000568.jpg', '/content/frames_test3/000569.jpg', '/content/frames_test3/000570.jpg', '/content/frames_test3/000571.jpg', '/content/frames_test3/000572.jpg', '/content/frames_test3/000573.jpg', '/content/frames_test3/000574.jpg', '/content/frames_test3/000575.jpg', '/content/frames_test3/000576.jpg', '/content/frames_test3/000577.jpg', '/content/frames_test3/000578.jpg', '/content/frames_test3/000579.jpg', '/content/frames_test3/000580.jpg', '/content/frames_test3/000581.jpg', '/content/frames_test3/000582.jpg', '/content/frames_test3/000583.jpg', '/content/frames_test3/000584.jpg', '/content/frames_test3/000585.jpg', '/content/frames_test3/000586.jpg', '/content/frames_test3/000587.jpg', '/content/frames_test3/000588.jpg', '/content/frames_test3/000589.jpg', '/content/frames_test3/000590.jpg', '/content/frames_test3/000591.jpg', '/content/frames_test3/000592.jpg', '/content/frames_test3/000593.jpg', '/content/frames_test3/000594.jpg', '/content/frames_test3/000595.jpg', '/content/frames_test3/000596.jpg', '/content/frames_test3/000597.jpg', '/content/frames_test3/000598.jpg', '/content/frames_test3/000599.jpg', '/content/frames_test3/000600.jpg', '/content/frames_test3/000601.jpg', '/content/frames_test3/000602.jpg', '/content/frames_test3/000603.jpg', '/content/frames_test3/000604.jpg', '/content/frames_test3/000605.jpg', '/content/frames_test3/000606.jpg', '/content/frames_test3/000607.jpg', '/content/frames_test3/000608.jpg', '/content/frames_test3/000609.jpg', '/content/frames_test3/000610.jpg', '/content/frames_test3/000611.jpg', '/content/frames_test3/000612.jpg', '/content/frames_test3/000613.jpg', '/content/frames_test3/000614.jpg', '/content/frames_test3/000615.jpg', '/content/frames_test3/000616.jpg', '/content/frames_test3/000617.jpg', '/content/frames_test3/000618.jpg', '/content/frames_test3/000619.jpg', '/content/frames_test3/000620.jpg', '/content/frames_test3/000621.jpg', '/content/frames_test3/000622.jpg', '/content/frames_test3/000623.jpg', '/content/frames_test3/000624.jpg', '/content/frames_test3/000625.jpg', '/content/frames_test3/000626.jpg', '/content/frames_test3/000627.jpg', '/content/frames_test3/000628.jpg', '/content/frames_test3/000629.jpg', '/content/frames_test3/000630.jpg', '/content/frames_test3/000631.jpg', '/content/frames_test3/000632.jpg', '/content/frames_test3/000633.jpg', '/content/frames_test3/000634.jpg', '/content/frames_test3/000635.jpg', '/content/frames_test3/000636.jpg', '/content/frames_test3/000637.jpg', '/content/frames_test3/000638.jpg', '/content/frames_test3/000639.jpg', '/content/frames_test3/000640.jpg', '/content/frames_test3/000641.jpg', '/content/frames_test3/000642.jpg', '/content/frames_test3/000643.jpg', '/content/frames_test3/000644.jpg', '/content/frames_test3/000645.jpg', '/content/frames_test3/000646.jpg', '/content/frames_test3/000647.jpg', '/content/frames_test3/000648.jpg', '/content/frames_test3/000649.jpg', '/content/frames_test3/000650.jpg', '/content/frames_test3/000651.jpg', '/content/frames_test3/000652.jpg', '/content/frames_test3/000653.jpg', '/content/frames_test3/000654.jpg', '/content/frames_test3/000655.jpg', '/content/frames_test3/000656.jpg', '/content/frames_test3/000657.jpg', '/content/frames_test3/000658.jpg', '/content/frames_test3/000659.jpg', '/content/frames_test3/000660.jpg', '/content/frames_test3/000661.jpg', '/content/frames_test3/000662.jpg', '/content/frames_test3/000663.jpg', '/content/frames_test3/000664.jpg', '/content/frames_test3/000665.jpg', '/content/frames_test3/000666.jpg', '/content/frames_test3/000667.jpg', '/content/frames_test3/000668.jpg', '/content/frames_test3/000669.jpg', '/content/frames_test3/000670.jpg', '/content/frames_test3/000671.jpg', '/content/frames_test3/000672.jpg', '/content/frames_test3/000673.jpg', '/content/frames_test3/000674.jpg', '/content/frames_test3/000675.jpg', '/content/frames_test3/000676.jpg', '/content/frames_test3/000677.jpg', '/content/frames_test3/000678.jpg', '/content/frames_test3/000679.jpg', '/content/frames_test3/000680.jpg', '/content/frames_test3/000681.jpg', '/content/frames_test3/000682.jpg', '/content/frames_test3/000683.jpg', '/content/frames_test3/000684.jpg', '/content/frames_test3/000685.jpg', '/content/frames_test3/000686.jpg', '/content/frames_test3/000687.jpg', '/content/frames_test3/000688.jpg', '/content/frames_test3/000689.jpg', '/content/frames_test3/000690.jpg', '/content/frames_test3/000691.jpg', '/content/frames_test3/000692.jpg', '/content/frames_test3/000693.jpg', '/content/frames_test3/000694.jpg', '/content/frames_test3/000695.jpg', '/content/frames_test3/000696.jpg', '/content/frames_test3/000697.jpg', '/content/frames_test3/000698.jpg', '/content/frames_test3/000699.jpg', '/content/frames_test3/000700.jpg', '/content/frames_test3/000701.jpg', '/content/frames_test3/000702.jpg', '/content/frames_test3/000703.jpg', '/content/frames_test3/000704.jpg', '/content/frames_test3/000705.jpg', '/content/frames_test3/000706.jpg', '/content/frames_test3/000707.jpg', '/content/frames_test3/000708.jpg', '/content/frames_test3/000709.jpg', '/content/frames_test3/000710.jpg', '/content/frames_test3/000711.jpg', '/content/frames_test3/000712.jpg', '/content/frames_test3/000713.jpg', '/content/frames_test3/000714.jpg', '/content/frames_test3/000715.jpg', '/content/frames_test3/000716.jpg', '/content/frames_test3/000717.jpg', '/content/frames_test3/000718.jpg', '/content/frames_test3/000719.jpg', '/content/frames_test3/000720.jpg', '/content/frames_test3/000721.jpg', '/content/frames_test3/000722.jpg', '/content/frames_test3/000723.jpg', '/content/frames_test3/000724.jpg', '/content/frames_test3/000725.jpg', '/content/frames_test3/000726.jpg', '/content/frames_test3/000727.jpg', '/content/frames_test3/000728.jpg', '/content/frames_test3/000729.jpg', '/content/frames_test3/000730.jpg', '/content/frames_test3/000731.jpg', '/content/frames_test3/000732.jpg', '/content/frames_test3/000733.jpg', '/content/frames_test3/000734.jpg', '/content/frames_test3/000735.jpg', '/content/frames_test3/000736.jpg', '/content/frames_test3/000737.jpg', '/content/frames_test3/000738.jpg', '/content/frames_test3/000739.jpg', '/content/frames_test3/000740.jpg', '/content/frames_test3/000741.jpg', '/content/frames_test3/000742.jpg', '/content/frames_test3/000743.jpg', '/content/frames_test3/000744.jpg', '/content/frames_test3/000745.jpg', '/content/frames_test3/000746.jpg', '/content/frames_test3/000747.jpg', '/content/frames_test3/000748.jpg', '/content/frames_test3/000749.jpg', '/content/frames_test3/000750.jpg', '/content/frames_test3/000751.jpg', '/content/frames_test3/000752.jpg', '/content/frames_test3/000753.jpg', '/content/frames_test3/000754.jpg', '/content/frames_test3/000755.jpg', '/content/frames_test3/000756.jpg', '/content/frames_test3/000757.jpg', '/content/frames_test3/000758.jpg', '/content/frames_test3/000759.jpg', '/content/frames_test3/000760.jpg', '/content/frames_test3/000761.jpg', '/content/frames_test3/000762.jpg', '/content/frames_test3/000763.jpg', '/content/frames_test3/000764.jpg', '/content/frames_test3/000765.jpg', '/content/frames_test3/000766.jpg', '/content/frames_test3/000767.jpg', '/content/frames_test3/000768.jpg', '/content/frames_test3/000769.jpg', '/content/frames_test3/000770.jpg', '/content/frames_test3/000771.jpg', '/content/frames_test3/000772.jpg', '/content/frames_test3/000773.jpg', '/content/frames_test3/000774.jpg', '/content/frames_test3/000775.jpg', '/content/frames_test3/000776.jpg', '/content/frames_test3/000777.jpg', '/content/frames_test3/000778.jpg', '/content/frames_test3/000779.jpg', '/content/frames_test3/000780.jpg', '/content/frames_test3/000781.jpg', '/content/frames_test3/000782.jpg', '/content/frames_test3/000783.jpg', '/content/frames_test3/000784.jpg', '/content/frames_test3/000785.jpg', '/content/frames_test3/000786.jpg', '/content/frames_test3/000787.jpg', '/content/frames_test3/000788.jpg', '/content/frames_test3/000789.jpg', '/content/frames_test3/000790.jpg', '/content/frames_test3/000791.jpg', '/content/frames_test3/000792.jpg', '/content/frames_test3/000793.jpg', '/content/frames_test3/000794.jpg', '/content/frames_test3/000795.jpg', '/content/frames_test3/000796.jpg', '/content/frames_test3/000797.jpg', '/content/frames_test3/000798.jpg', '/content/frames_test3/000799.jpg', '/content/frames_test3/000800.jpg', '/content/frames_test3/000801.jpg', '/content/frames_test3/000802.jpg', '/content/frames_test3/000803.jpg', '/content/frames_test3/000804.jpg', '/content/frames_test3/000805.jpg', '/content/frames_test3/000806.jpg', '/content/frames_test3/000807.jpg', '/content/frames_test3/000808.jpg', '/content/frames_test3/000809.jpg', '/content/frames_test3/000810.jpg', '/content/frames_test3/000811.jpg', '/content/frames_test3/000812.jpg', '/content/frames_test3/000813.jpg', '/content/frames_test3/000814.jpg', '/content/frames_test3/000815.jpg', '/content/frames_test3/000816.jpg', '/content/frames_test3/000817.jpg', '/content/frames_test3/000818.jpg', '/content/frames_test3/000819.jpg', '/content/frames_test3/000820.jpg', '/content/frames_test3/000821.jpg', '/content/frames_test3/000822.jpg', '/content/frames_test3/000823.jpg', '/content/frames_test3/000824.jpg', '/content/frames_test3/000825.jpg', '/content/frames_test3/000826.jpg', '/content/frames_test3/000827.jpg', '/content/frames_test3/000828.jpg', '/content/frames_test3/000829.jpg', '/content/frames_test3/000830.jpg', '/content/frames_test3/000831.jpg', '/content/frames_test3/000832.jpg', '/content/frames_test3/000833.jpg', '/content/frames_test3/000834.jpg', '/content/frames_test3/000835.jpg', '/content/frames_test3/000836.jpg', '/content/frames_test3/000837.jpg', '/content/frames_test3/000838.jpg', '/content/frames_test3/000839.jpg', '/content/frames_test3/000840.jpg', '/content/frames_test3/000841.jpg', '/content/frames_test3/000842.jpg', '/content/frames_test3/000843.jpg', '/content/frames_test3/000844.jpg', '/content/frames_test3/000845.jpg', '/content/frames_test3/000846.jpg', '/content/frames_test3/000847.jpg', '/content/frames_test3/000848.jpg', '/content/frames_test3/000849.jpg', '/content/frames_test3/000850.jpg', '/content/frames_test3/000851.jpg', '/content/frames_test3/000852.jpg', '/content/frames_test3/000853.jpg', '/content/frames_test3/000854.jpg', '/content/frames_test3/000855.jpg', '/content/frames_test3/000856.jpg', '/content/frames_test3/000857.jpg', '/content/frames_test3/000858.jpg', '/content/frames_test3/000859.jpg', '/content/frames_test3/000860.jpg', '/content/frames_test3/000861.jpg', '/content/frames_test3/000862.jpg', '/content/frames_test3/000863.jpg', '/content/frames_test3/000864.jpg', '/content/frames_test3/000865.jpg', '/content/frames_test3/000866.jpg', '/content/frames_test3/000867.jpg', '/content/frames_test3/000868.jpg', '/content/frames_test3/000869.jpg', '/content/frames_test3/000870.jpg', '/content/frames_test3/000871.jpg', '/content/frames_test3/000872.jpg', '/content/frames_test3/000873.jpg', '/content/frames_test3/000874.jpg', '/content/frames_test3/000875.jpg', '/content/frames_test3/000876.jpg', '/content/frames_test3/000877.jpg', '/content/frames_test3/000878.jpg', '/content/frames_test3/000879.jpg', '/content/frames_test3/000880.jpg', '/content/frames_test3/000881.jpg', '/content/frames_test3/000882.jpg', '/content/frames_test3/000883.jpg', '/content/frames_test3/000884.jpg', '/content/frames_test3/000885.jpg', '/content/frames_test3/000886.jpg', '/content/frames_test3/000887.jpg', '/content/frames_test3/000888.jpg', '/content/frames_test3/000889.jpg', '/content/frames_test3/000890.jpg', '/content/frames_test3/000891.jpg', '/content/frames_test3/000892.jpg', '/content/frames_test3/000893.jpg', '/content/frames_test3/000894.jpg', '/content/frames_test3/000895.jpg', '/content/frames_test3/000896.jpg', '/content/frames_test3/000897.jpg', '/content/frames_test3/000898.jpg', '/content/frames_test3/000899.jpg', '/content/frames_test3/000900.jpg', '/content/frames_test3/000901.jpg', '/content/frames_test3/000902.jpg', '/content/frames_test3/000903.jpg', '/content/frames_test3/000904.jpg', '/content/frames_test3/000905.jpg', '/content/frames_test3/000906.jpg', '/content/frames_test3/000907.jpg', '/content/frames_test3/000908.jpg', '/content/frames_test3/000909.jpg', '/content/frames_test3/000910.jpg', '/content/frames_test3/000911.jpg', '/content/frames_test3/000912.jpg', '/content/frames_test3/000913.jpg', '/content/frames_test3/000914.jpg', '/content/frames_test3/000915.jpg', '/content/frames_test3/000916.jpg', '/content/frames_test3/000917.jpg', '/content/frames_test3/000918.jpg', '/content/frames_test3/000919.jpg', '/content/frames_test3/000920.jpg', '/content/frames_test3/000921.jpg', '/content/frames_test3/000922.jpg', '/content/frames_test3/000923.jpg', '/content/frames_test3/000924.jpg', '/content/frames_test3/000925.jpg', '/content/frames_test3/000926.jpg', '/content/frames_test3/000927.jpg', '/content/frames_test3/000928.jpg', '/content/frames_test3/000929.jpg', '/content/frames_test3/000930.jpg', '/content/frames_test3/000931.jpg', '/content/frames_test3/000932.jpg', '/content/frames_test3/000933.jpg', '/content/frames_test3/000934.jpg', '/content/frames_test3/000935.jpg', '/content/frames_test3/000936.jpg', '/content/frames_test3/000937.jpg', '/content/frames_test3/000938.jpg', '/content/frames_test3/000939.jpg', '/content/frames_test3/000940.jpg', '/content/frames_test3/000941.jpg', '/content/frames_test3/000942.jpg', '/content/frames_test3/000943.jpg', '/content/frames_test3/000944.jpg', '/content/frames_test3/000945.jpg', '/content/frames_test3/000946.jpg', '/content/frames_test3/000947.jpg', '/content/frames_test3/000948.jpg', '/content/frames_test3/000949.jpg', '/content/frames_test3/000950.jpg', '/content/frames_test3/000951.jpg', '/content/frames_test3/000952.jpg', '/content/frames_test3/000953.jpg', '/content/frames_test3/000954.jpg', '/content/frames_test3/000955.jpg', '/content/frames_test3/000956.jpg', '/content/frames_test3/000957.jpg', '/content/frames_test3/000958.jpg', '/content/frames_test3/000959.jpg', '/content/frames_test3/000960.jpg', '/content/frames_test3/000961.jpg', '/content/frames_test3/000962.jpg', '/content/frames_test3/000963.jpg', '/content/frames_test3/000964.jpg', '/content/frames_test3/000965.jpg', '/content/frames_test3/000966.jpg', '/content/frames_test3/000967.jpg', '/content/frames_test3/000968.jpg', '/content/frames_test3/000969.jpg', '/content/frames_test3/000970.jpg', '/content/frames_test3/000971.jpg', '/content/frames_test3/000972.jpg', '/content/frames_test3/000973.jpg', '/content/frames_test3/000974.jpg', '/content/frames_test3/000975.jpg', '/content/frames_test3/000976.jpg', '/content/frames_test3/000977.jpg', '/content/frames_test3/000978.jpg', '/content/frames_test3/000979.jpg', '/content/frames_test3/000980.jpg', '/content/frames_test3/000981.jpg', '/content/frames_test3/000982.jpg', '/content/frames_test3/000983.jpg', '/content/frames_test3/000984.jpg', '/content/frames_test3/000985.jpg', '/content/frames_test3/000986.jpg', '/content/frames_test3/000987.jpg', '/content/frames_test3/000988.jpg', '/content/frames_test3/000989.jpg', '/content/frames_test3/000990.jpg', '/content/frames_test3/000991.jpg', '/content/frames_test3/000992.jpg', '/content/frames_test3/000993.jpg', '/content/frames_test3/000994.jpg', '/content/frames_test3/000995.jpg', '/content/frames_test3/000996.jpg', '/content/frames_test3/000997.jpg', '/content/frames_test3/000998.jpg', '/content/frames_test3/000999.jpg', '/content/frames_test3/001000.jpg', '/content/frames_test3/001001.jpg', '/content/frames_test3/001002.jpg', '/content/frames_test3/001003.jpg', '/content/frames_test3/001004.jpg', '/content/frames_test3/001005.jpg', '/content/frames_test3/001006.jpg', '/content/frames_test3/001007.jpg', '/content/frames_test3/001008.jpg', '/content/frames_test3/001009.jpg', '/content/frames_test3/001010.jpg', '/content/frames_test3/001011.jpg', '/content/frames_test3/001012.jpg', '/content/frames_test3/001013.jpg', '/content/frames_test3/001014.jpg', '/content/frames_test3/001015.jpg', '/content/frames_test3/001016.jpg', '/content/frames_test3/001017.jpg', '/content/frames_test3/001018.jpg', '/content/frames_test3/001019.jpg', '/content/frames_test3/001020.jpg', '/content/frames_test3/001021.jpg', '/content/frames_test3/001022.jpg', '/content/frames_test3/001023.jpg', '/content/frames_test3/001024.jpg', '/content/frames_test3/001025.jpg', '/content/frames_test3/001026.jpg', '/content/frames_test3/001027.jpg', '/content/frames_test3/001028.jpg', '/content/frames_test3/001029.jpg', '/content/frames_test3/001030.jpg', '/content/frames_test3/001031.jpg', '/content/frames_test3/001032.jpg', '/content/frames_test3/001033.jpg', '/content/frames_test3/001034.jpg', '/content/frames_test3/001035.jpg', '/content/frames_test3/001036.jpg', '/content/frames_test3/001037.jpg', '/content/frames_test3/001038.jpg', '/content/frames_test3/001039.jpg', '/content/frames_test3/001040.jpg', '/content/frames_test3/001041.jpg', '/content/frames_test3/001042.jpg', '/content/frames_test3/001043.jpg', '/content/frames_test3/001044.jpg', '/content/frames_test3/001046.jpg', '/content/frames_test3/001048.jpg', '/content/frames_test3/001050.jpg', '/content/frames_test3/001052.jpg', '/content/frames_test3/001054.jpg']\n"
          ],
          "name": "stdout"
        }
      ]
    },
    {
      "cell_type": "code",
      "metadata": {
        "id": "2VuCxLhPsUet",
        "colab_type": "code",
        "colab": {}
      },
      "source": [
        "cut_extra(sorted(list_of_files))"
      ],
      "execution_count": 0,
      "outputs": []
    },
    {
      "cell_type": "code",
      "metadata": {
        "id": "n2xuIJDIuuJI",
        "colab_type": "code",
        "colab": {}
      },
      "source": [
        "# !zip -r frames_test.zip frames_test"
      ],
      "execution_count": 0,
      "outputs": []
    },
    {
      "cell_type": "code",
      "metadata": {
        "id": "4ST5icrs7bY4",
        "colab_type": "code",
        "colab": {}
      },
      "source": [
        "def convert_frames_to_video(list_of_files,pathOut,fps):\n",
        "\n",
        "    frame_array = []\n",
        "    for i in range(len(list_of_files)):\n",
        "        # filename=pathIn + files[i]\n",
        "        #reading each files\n",
        "        img = cv2.imread(list_of_files[i])\n",
        "        height, width, layers = img.shape\n",
        "        size = (width,height)\n",
        "        print(list_of_files[i])\n",
        "        #inserting the frames into an image array\n",
        "        frame_array.append(img)\n",
        "\n",
        "    out = cv2.VideoWriter(pathOut,cv2.VideoWriter_fourcc(*'DIVX'), fps, size)\n",
        "\n",
        "    for i in range(len(frame_array)):\n",
        "        # writing to a image array\n",
        "        out.write(frame_array[i])\n",
        "    out.release()"
      ],
      "execution_count": 0,
      "outputs": []
    },
    {
      "cell_type": "code",
      "metadata": {
        "id": "PB5SwG3sv1k5",
        "colab_type": "code",
        "colab": {}
      },
      "source": [
        "convert_frames_to_video(list_of_files,'./test2_interpolated.avi',60)"
      ],
      "execution_count": 0,
      "outputs": []
    },
    {
      "cell_type": "code",
      "metadata": {
        "id": "YeUb-M6Q7bY7",
        "colab_type": "code",
        "outputId": "b9de6078-3fee-443c-95bb-11cd5894087e",
        "colab": {}
      },
      "source": [
        "cv2.imwrite('interpolated_frame.jpg',interpolated_image[1]*255.)"
      ],
      "execution_count": 0,
      "outputs": [
        {
          "output_type": "execute_result",
          "data": {
            "text/plain": [
              "True"
            ]
          },
          "metadata": {
            "tags": []
          },
          "execution_count": 18
        }
      ]
    },
    {
      "cell_type": "code",
      "metadata": {
        "id": "lAaY-zz77bZA",
        "colab_type": "code",
        "colab": {}
      },
      "source": [
        ""
      ],
      "execution_count": 0,
      "outputs": []
    }
  ]
}